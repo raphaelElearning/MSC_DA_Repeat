{
 "cells": [
  {
   "cell_type": "code",
   "execution_count": 1,
   "id": "66fb03ac-44c5-432a-985c-97c2dd8058bc",
   "metadata": {},
   "outputs": [],
   "source": [
    "import pandas as pd\n",
    "import os\n",
    "import seaborn as sns\n",
    "import plotly.express as px\n",
    "import matplotlib.pyplot as plt\n",
    "import numpy as np"
   ]
  },
  {
   "cell_type": "markdown",
   "id": "c9c5b124-1c88-4070-9d16-f2a576779657",
   "metadata": {},
   "source": [
    "# 1. Data Preparation (cleaning and engineering)"
   ]
  },
  {
   "cell_type": "markdown",
   "id": "48c7f53e-b217-42e4-afc9-ca00ecbb38ed",
   "metadata": {},
   "source": [
    "## 1.1. Dublin Bikes"
   ]
  },
  {
   "cell_type": "markdown",
   "id": "44fa1434-29b3-48a5-82fa-ab0e56096f8d",
   "metadata": {},
   "source": [
    "First we will loop through the files in order to concatenate the 12 complementary files into a single dataframe for the whole year of 2023.\n",
    "Dataset available at: \n",
    "\n",
    "Dataset available at: https://data.smartdublin.ie/dataset/dublinbikes-api\n",
    "\n",
    "\n",
    "Font: https://medium.com/@nawazmohtashim/method-to-merge-csv-files-in-python-8b0f16550e0b"
   ]
  },
  {
   "cell_type": "code",
   "execution_count": 5,
   "id": "d1ec9507-e3db-4730-8320-635194bcc0c3",
   "metadata": {},
   "outputs": [
    {
     "name": "stdout",
     "output_type": "stream",
     "text": [
      "['.DS_Store', '._.DS_Store', '._dublinbike-historical-data-2022-01.csv', '._dublinbike-historical-data-2022-02.csv', '._dublinbike-historical-data-2022-03.csv', '._dublinbike-historical-data-2022-04.csv', '._dublinbike-historical-data-2022-05.csv', '._dublinbike-historical-data-2022-06.csv', '._dublinbike-historical-data-2022-07.csv', '._dublinbike-historical-data-2022-08.csv', '._dublinbike-historical-data-2022-09.csv', '._dublinbike-historical-data-2022-10.csv', '._dublinbike-historical-data-2022-11.csv', '._dublinbike-historical-data-2022-12.csv', 'Dublinbike_historical_data_2022.csv', 'dublinbike-historical-data-2022-01.csv', 'dublinbike-historical-data-2022-02.csv', 'dublinbike-historical-data-2022-03.csv', 'dublinbike-historical-data-2022-04.csv', 'dublinbike-historical-data-2022-05.csv', 'dublinbike-historical-data-2022-06.csv', 'dublinbike-historical-data-2022-07.csv', 'dublinbike-historical-data-2022-08.csv', 'dublinbike-historical-data-2022-09.csv', 'dublinbike-historical-data-2022-10.csv', 'dublinbike-historical-data-2022-11.csv', 'dublinbike-historical-data-2022-12.csv']\n"
     ]
    }
   ],
   "source": [
    "# Listing the files and sorting them by name in the dublin_data folder so they do not have to be typed one by one. Adapted from: https://stevenhough.medium.com/how-to-easily-list-all-files-in-a-folder-using-python-3-ee06004c6316\n",
    "\n",
    "folder_path = '/home/user/Documents/GitHub/dublin_data'\n",
    "\n",
    "file_list = sorted([f for f in os.listdir(folder_path) if os.path.isfile(os.path.join(folder_path, f))])\n",
    "\n",
    "print(file_list)"
   ]
  },
  {
   "cell_type": "code",
   "execution_count": 6,
   "id": "b850317a-c8df-498c-b9b8-da2dd2e37e4c",
   "metadata": {},
   "outputs": [],
   "source": [
    "# Creating a list with the files.\n",
    "\n",
    "months_dfs = ['/home/user/Documents/GitHub/dublin_data/dublinbike-historical-data-2022-01.csv', '/home/user/Documents/GitHub/dublin_data/dublinbike-historical-data-2022-02.csv', '/home/user/Documents/GitHub/dublin_data/dublinbike-historical-data-2022-03.csv', \n",
    "              '/home/user/Documents/GitHub/dublin_data/dublinbike-historical-data-2022-04.csv', '/home/user/Documents/GitHub/dublin_data/dublinbike-historical-data-2022-05.csv', '/home/user/Documents/GitHub/dublin_data/dublinbike-historical-data-2022-06.csv',\n",
    "              '/home/user/Documents/GitHub/dublin_data/dublinbike-historical-data-2022-07.csv', '/home/user/Documents/GitHub/dublin_data/dublinbike-historical-data-2022-08.csv', '/home/user/Documents/GitHub/dublin_data/dublinbike-historical-data-2022-09.csv',\n",
    "              '/home/user/Documents/GitHub/dublin_data/dublinbike-historical-data-2022-10.csv', '/home/user/Documents/GitHub/dublin_data/dublinbike-historical-data-2022-11.csv', '/home/user/Documents/GitHub/dublin_data/dublinbike-historical-data-2022-12.csv']"
   ]
  },
  {
   "cell_type": "code",
   "execution_count": 7,
   "id": "24d63b3f-e521-4a96-88cc-d2ccac965af8",
   "metadata": {},
   "outputs": [],
   "source": [
    "df_dublin = pd.DataFrame()\n",
    "\n",
    "# For loop for merging data\n",
    "for monthsdfs in months_dfs:\n",
    "    df = pd.read_csv(monthsdfs)\n",
    "    df_dublin = pd.concat([df_dublin, df], ignore_index=True)\n",
    "\n",
    "# Saving a new .csv file with the merged data\n",
    "df_dublin.to_csv('Dublinbike_historical_data_2022.csv', index=False)"
   ]
  },
  {
   "cell_type": "code",
   "execution_count": 8,
   "id": "d8547652-c006-4e8a-8c11-15368a91d3f2",
   "metadata": {},
   "outputs": [],
   "source": [
    "df_dublin = pd.read_csv('/home/user/Documents/GitHub/dublin_data/Dublinbike_historical_data_2022.csv')"
   ]
  },
  {
   "cell_type": "markdown",
   "id": "b9808d89-7f12-44f5-a9df-4a2715039c87",
   "metadata": {},
   "source": [
    "Inspect the data."
   ]
  },
  {
   "cell_type": "code",
   "execution_count": 10,
   "id": "98c8bead-d821-43ba-8185-7e4d0f9d5dc2",
   "metadata": {},
   "outputs": [
    {
     "name": "stdout",
     "output_type": "stream",
     "text": [
      "<class 'pandas.core.frame.DataFrame'>\n",
      "RangeIndex: 1950289 entries, 0 to 1950288\n",
      "Data columns (total 11 columns):\n",
      " #   Column                 Dtype  \n",
      "---  ------                 -----  \n",
      " 0   STATION ID             int64  \n",
      " 1   TIME                   object \n",
      " 2   LAST UPDATED           object \n",
      " 3   NAME                   object \n",
      " 4   BIKE_STANDS            int64  \n",
      " 5   AVAILABLE_BIKE_STANDS  int64  \n",
      " 6   AVAILABLE_BIKES        int64  \n",
      " 7   STATUS                 object \n",
      " 8   ADDRESS                object \n",
      " 9   LATITUDE               float64\n",
      " 10  LONGITUDE              float64\n",
      "dtypes: float64(2), int64(4), object(5)\n",
      "memory usage: 163.7+ MB\n"
     ]
    }
   ],
   "source": [
    "df_dublin.info()"
   ]
  },
  {
   "cell_type": "code",
   "execution_count": 11,
   "id": "57b57cd2-a043-4d61-8d64-2554e3fdcaa8",
   "metadata": {},
   "outputs": [
    {
     "data": {
      "text/html": [
       "<div>\n",
       "<style scoped>\n",
       "    .dataframe tbody tr th:only-of-type {\n",
       "        vertical-align: middle;\n",
       "    }\n",
       "\n",
       "    .dataframe tbody tr th {\n",
       "        vertical-align: top;\n",
       "    }\n",
       "\n",
       "    .dataframe thead th {\n",
       "        text-align: right;\n",
       "    }\n",
       "</style>\n",
       "<table border=\"1\" class=\"dataframe\">\n",
       "  <thead>\n",
       "    <tr style=\"text-align: right;\">\n",
       "      <th></th>\n",
       "      <th>STATION ID</th>\n",
       "      <th>TIME</th>\n",
       "      <th>LAST UPDATED</th>\n",
       "      <th>NAME</th>\n",
       "      <th>BIKE_STANDS</th>\n",
       "      <th>AVAILABLE_BIKE_STANDS</th>\n",
       "      <th>AVAILABLE_BIKES</th>\n",
       "      <th>STATUS</th>\n",
       "      <th>ADDRESS</th>\n",
       "      <th>LATITUDE</th>\n",
       "      <th>LONGITUDE</th>\n",
       "    </tr>\n",
       "  </thead>\n",
       "  <tbody>\n",
       "    <tr>\n",
       "      <th>0</th>\n",
       "      <td>2</td>\n",
       "      <td>2022-01-01 00:00:04</td>\n",
       "      <td>2021-12-31 23:57:39</td>\n",
       "      <td>BLESSINGTON STREET</td>\n",
       "      <td>20</td>\n",
       "      <td>10</td>\n",
       "      <td>10</td>\n",
       "      <td>OPEN</td>\n",
       "      <td>Blessington Street</td>\n",
       "      <td>53.3568</td>\n",
       "      <td>-6.26814</td>\n",
       "    </tr>\n",
       "    <tr>\n",
       "      <th>1</th>\n",
       "      <td>3</td>\n",
       "      <td>2022-01-01 00:00:04</td>\n",
       "      <td>2021-12-31 23:49:57</td>\n",
       "      <td>BOLTON STREET</td>\n",
       "      <td>20</td>\n",
       "      <td>19</td>\n",
       "      <td>1</td>\n",
       "      <td>OPEN</td>\n",
       "      <td>Bolton Street</td>\n",
       "      <td>53.3512</td>\n",
       "      <td>-6.26986</td>\n",
       "    </tr>\n",
       "    <tr>\n",
       "      <th>2</th>\n",
       "      <td>4</td>\n",
       "      <td>2022-01-01 00:00:04</td>\n",
       "      <td>2021-12-31 23:58:39</td>\n",
       "      <td>GREEK STREET</td>\n",
       "      <td>20</td>\n",
       "      <td>9</td>\n",
       "      <td>11</td>\n",
       "      <td>OPEN</td>\n",
       "      <td>Greek Street</td>\n",
       "      <td>53.3469</td>\n",
       "      <td>-6.27298</td>\n",
       "    </tr>\n",
       "  </tbody>\n",
       "</table>\n",
       "</div>"
      ],
      "text/plain": [
       "   STATION ID                 TIME         LAST UPDATED                NAME  \\\n",
       "0           2  2022-01-01 00:00:04  2021-12-31 23:57:39  BLESSINGTON STREET   \n",
       "1           3  2022-01-01 00:00:04  2021-12-31 23:49:57       BOLTON STREET   \n",
       "2           4  2022-01-01 00:00:04  2021-12-31 23:58:39        GREEK STREET   \n",
       "\n",
       "   BIKE_STANDS  AVAILABLE_BIKE_STANDS  AVAILABLE_BIKES STATUS  \\\n",
       "0           20                     10               10   OPEN   \n",
       "1           20                     19                1   OPEN   \n",
       "2           20                      9               11   OPEN   \n",
       "\n",
       "              ADDRESS  LATITUDE  LONGITUDE  \n",
       "0  Blessington Street   53.3568   -6.26814  \n",
       "1       Bolton Street   53.3512   -6.26986  \n",
       "2        Greek Street   53.3469   -6.27298  "
      ]
     },
     "execution_count": 11,
     "metadata": {},
     "output_type": "execute_result"
    }
   ],
   "source": [
    "df_dublin.head(3)"
   ]
  },
  {
   "cell_type": "markdown",
   "id": "b5485a8b-9cf2-4a55-8198-6a752bca96c8",
   "metadata": {},
   "source": [
    "Handling missing data."
   ]
  },
  {
   "cell_type": "code",
   "execution_count": 13,
   "id": "a8132d77-c48d-420c-9cf4-f8653ff46178",
   "metadata": {},
   "outputs": [
    {
     "data": {
      "text/plain": [
       "STATION ID               0\n",
       "TIME                     0\n",
       "LAST UPDATED             0\n",
       "NAME                     0\n",
       "BIKE_STANDS              0\n",
       "AVAILABLE_BIKE_STANDS    0\n",
       "AVAILABLE_BIKES          0\n",
       "STATUS                   0\n",
       "ADDRESS                  0\n",
       "LATITUDE                 0\n",
       "LONGITUDE                0\n",
       "dtype: int64"
      ]
     },
     "execution_count": 13,
     "metadata": {},
     "output_type": "execute_result"
    }
   ],
   "source": [
    "df_dublin.isnull().sum()"
   ]
  },
  {
   "cell_type": "markdown",
   "id": "1424799e-a95b-4a89-8685-bac4e3498772",
   "metadata": {},
   "source": [
    "Filtering the dataset by status."
   ]
  },
  {
   "cell_type": "code",
   "execution_count": 15,
   "id": "793c7ebc-2fb2-4f50-96c9-dc1961a91686",
   "metadata": {},
   "outputs": [
    {
     "data": {
      "text/plain": [
       "(array(['OPEN', 'CLOSED'], dtype=object),\n",
       " STATUS\n",
       " OPEN      1948271\n",
       " CLOSED       2018\n",
       " Name: count, dtype: int64)"
      ]
     },
     "execution_count": 15,
     "metadata": {},
     "output_type": "execute_result"
    }
   ],
   "source": [
    "# Checking unique statuses in 'STATUS' since we are only using stations that are open.\n",
    "\n",
    "statuses_status = df_dublin['STATUS'].unique()\n",
    "status_numbers = df_dublin['STATUS'].value_counts()\n",
    "\n",
    "statuses_status, status_numbers"
   ]
  },
  {
   "cell_type": "code",
   "execution_count": 16,
   "id": "840cf71e-ab07-4fa8-bc24-4bacc23c577b",
   "metadata": {},
   "outputs": [],
   "source": [
    "# Filtering the dataset to only 'OPEN' statuses.\n",
    "\n",
    "df_dublin = df_dublin[df_dublin['STATUS'] == 'OPEN']"
   ]
  },
  {
   "cell_type": "markdown",
   "id": "8f847e4b-9230-4095-a7e7-bc960f57e547",
   "metadata": {},
   "source": [
    "Datatype transforming."
   ]
  },
  {
   "cell_type": "code",
   "execution_count": 18,
   "id": "632d5388-b0fd-45e0-acff-40fd24e93286",
   "metadata": {},
   "outputs": [],
   "source": [
    "# Tranforming the column 'TIME' to datetime format.\n",
    "\n",
    "df_dublin['TIME']= pd.to_datetime(df_dublin['TIME'])"
   ]
  },
  {
   "cell_type": "markdown",
   "id": "b2c9c62f-baca-4ffc-bb67-943b0b166a0b",
   "metadata": {},
   "source": [
    "Dropping, renaming and detecting duplicates."
   ]
  },
  {
   "cell_type": "code",
   "execution_count": 20,
   "id": "b326fb53-7a1f-4bea-891c-f4493c85f1d0",
   "metadata": {},
   "outputs": [],
   "source": [
    "# Dropping redundant / unecessary columns.\n",
    "\n",
    "drop_column_dublin_1 = ['LAST UPDATED','ADDRESS', 'STATUS']\n",
    "df_dublin = df_dublin.drop(columns = drop_column_dublin_1)"
   ]
  },
  {
   "cell_type": "code",
   "execution_count": 21,
   "id": "aec15e91-cd55-48ff-8e19-cb525b031b53",
   "metadata": {},
   "outputs": [],
   "source": [
    "# Renaming columns for better vizualisation.\n",
    "\n",
    "df_dublin.rename(columns={'STATION ID': 'station_id','TIME': 'time', 'NAME': 'station', 'BIKE_STANDS': 'n_stands',\n",
    "                            'AVAILABLE_BIKE_STANDS': 'available_stands','AVAILABLE_BIKES': 'available_bikes',\n",
    "                         'LATITUDE': 'lat', 'LONGITUDE': 'long' }, inplace=True)"
   ]
  },
  {
   "cell_type": "code",
   "execution_count": 22,
   "id": "11b67a20-ecf2-432e-8cd0-6a434db57f15",
   "metadata": {},
   "outputs": [
    {
     "name": "stdout",
     "output_type": "stream",
     "text": [
      "Are there any duplicated rows in the whole dataset? False\n"
     ]
    }
   ],
   "source": [
    "# Detecting duplicates (It is very unlikely there are duplicates due to the origin of the data, but it will be performed just in case).\n",
    "# If it is 'False', there are no duplicated rows in the dataset.\n",
    "\n",
    "dupli = df_dublin.duplicated().any()\n",
    "\n",
    "print(f'Are there any duplicated rows in the whole dataset? {dupli}')"
   ]
  },
  {
   "cell_type": "markdown",
   "id": "48ae9e8a-d15b-4b98-80bc-18943f632302",
   "metadata": {},
   "source": [
    "Trasforming Dtypes."
   ]
  },
  {
   "cell_type": "code",
   "execution_count": 24,
   "id": "2de65763-baa1-4235-a802-6dafdab1b09d",
   "metadata": {},
   "outputs": [
    {
     "data": {
      "text/html": [
       "<div>\n",
       "<style scoped>\n",
       "    .dataframe tbody tr th:only-of-type {\n",
       "        vertical-align: middle;\n",
       "    }\n",
       "\n",
       "    .dataframe tbody tr th {\n",
       "        vertical-align: top;\n",
       "    }\n",
       "\n",
       "    .dataframe thead th {\n",
       "        text-align: right;\n",
       "    }\n",
       "</style>\n",
       "<table border=\"1\" class=\"dataframe\">\n",
       "  <thead>\n",
       "    <tr style=\"text-align: right;\">\n",
       "      <th></th>\n",
       "      <th>station_id</th>\n",
       "      <th>time</th>\n",
       "      <th>station</th>\n",
       "      <th>n_stands</th>\n",
       "      <th>available_stands</th>\n",
       "      <th>available_bikes</th>\n",
       "      <th>lat</th>\n",
       "      <th>long</th>\n",
       "    </tr>\n",
       "  </thead>\n",
       "  <tbody>\n",
       "    <tr>\n",
       "      <th>0</th>\n",
       "      <td>2</td>\n",
       "      <td>2022-01-01 00:00:04</td>\n",
       "      <td>BLESSINGTON STREET</td>\n",
       "      <td>20</td>\n",
       "      <td>10</td>\n",
       "      <td>10</td>\n",
       "      <td>53.3568</td>\n",
       "      <td>-6.26814</td>\n",
       "    </tr>\n",
       "    <tr>\n",
       "      <th>1</th>\n",
       "      <td>3</td>\n",
       "      <td>2022-01-01 00:00:04</td>\n",
       "      <td>BOLTON STREET</td>\n",
       "      <td>20</td>\n",
       "      <td>19</td>\n",
       "      <td>1</td>\n",
       "      <td>53.3512</td>\n",
       "      <td>-6.26986</td>\n",
       "    </tr>\n",
       "    <tr>\n",
       "      <th>2</th>\n",
       "      <td>4</td>\n",
       "      <td>2022-01-01 00:00:04</td>\n",
       "      <td>GREEK STREET</td>\n",
       "      <td>20</td>\n",
       "      <td>9</td>\n",
       "      <td>11</td>\n",
       "      <td>53.3469</td>\n",
       "      <td>-6.27298</td>\n",
       "    </tr>\n",
       "    <tr>\n",
       "      <th>3</th>\n",
       "      <td>5</td>\n",
       "      <td>2022-01-01 00:00:04</td>\n",
       "      <td>CHARLEMONT PLACE</td>\n",
       "      <td>40</td>\n",
       "      <td>17</td>\n",
       "      <td>23</td>\n",
       "      <td>53.3307</td>\n",
       "      <td>-6.26018</td>\n",
       "    </tr>\n",
       "    <tr>\n",
       "      <th>4</th>\n",
       "      <td>6</td>\n",
       "      <td>2022-01-01 00:00:04</td>\n",
       "      <td>CHRISTCHURCH PLACE</td>\n",
       "      <td>20</td>\n",
       "      <td>13</td>\n",
       "      <td>7</td>\n",
       "      <td>53.3434</td>\n",
       "      <td>-6.27012</td>\n",
       "    </tr>\n",
       "  </tbody>\n",
       "</table>\n",
       "</div>"
      ],
      "text/plain": [
       "   station_id                time             station  n_stands  \\\n",
       "0           2 2022-01-01 00:00:04  BLESSINGTON STREET        20   \n",
       "1           3 2022-01-01 00:00:04       BOLTON STREET        20   \n",
       "2           4 2022-01-01 00:00:04        GREEK STREET        20   \n",
       "3           5 2022-01-01 00:00:04    CHARLEMONT PLACE        40   \n",
       "4           6 2022-01-01 00:00:04  CHRISTCHURCH PLACE        20   \n",
       "\n",
       "   available_stands  available_bikes      lat     long  \n",
       "0                10               10  53.3568 -6.26814  \n",
       "1                19                1  53.3512 -6.26986  \n",
       "2                 9               11  53.3469 -6.27298  \n",
       "3                17               23  53.3307 -6.26018  \n",
       "4                13                7  53.3434 -6.27012  "
      ]
     },
     "execution_count": 24,
     "metadata": {},
     "output_type": "execute_result"
    }
   ],
   "source": [
    "df_dublin.head(5)"
   ]
  },
  {
   "cell_type": "markdown",
   "id": "a1833ef0-0480-4111-ac96-a591a1f77f53",
   "metadata": {},
   "source": [
    "Data engineering for specific data and creation of lighter datasets for diferent analysis."
   ]
  },
  {
   "cell_type": "markdown",
   "id": "a00ebc57-3fd3-4085-a0f7-bd4197857b3b",
   "metadata": {},
   "source": [
    "Dataset: Number of trips"
   ]
  },
  {
   "cell_type": "code",
   "execution_count": 27,
   "id": "9da77f36-ea2c-4e1a-ae9b-dc34ae7ff61e",
   "metadata": {},
   "outputs": [],
   "source": [
    "# Sorting rows by station_id and time.\n",
    "\n",
    "dublin_total_trips = df_dublin.sort_values(by=['station_id', 'time'])"
   ]
  },
  {
   "cell_type": "code",
   "execution_count": 28,
   "id": "68a55ccb-d0c1-466d-8ac7-425ae263ee0e",
   "metadata": {},
   "outputs": [],
   "source": [
    "# Calculating number of trips per row (ended and started).\n",
    "# Obs: There is a slight modifycation in the lambda function since 'ended' and 'started'(lambda x: -x in\n",
    "# comparison to lambda x: x) as the number of the current available bikes / available stands subtracted from the previous number will \n",
    "# dictate if it is a starting or ending trip. (AS + / AB - = Trips started; AS - / AB + = Trips ended)\n",
    "\n",
    "dublin_total_trips['trips_started'] = dublin_total_trips.groupby('station_id')['available_bikes'].diff().fillna(0)\n",
    "dublin_total_trips['trips_started'] = dublin_total_trips['trips_started'].apply(lambda x: -x if x < 0 else 0)\n",
    "\n",
    "dublin_total_trips['trips_ended'] = dublin_total_trips.groupby('station_id')['available_bikes'].diff().fillna(0)\n",
    "dublin_total_trips['trips_ended'] = dublin_total_trips['trips_ended'].apply(lambda x: x if x > 0 else 0)\n",
    "\n",
    "dublin_total_trips['total_trips_per_station'] = dublin_total_trips['trips_started']+dublin_total_trips['trips_ended']"
   ]
  },
  {
   "cell_type": "code",
   "execution_count": 29,
   "id": "157d9d8e-c4e6-46c9-9665-aeffe03a0b20",
   "metadata": {},
   "outputs": [
    {
     "data": {
      "text/html": [
       "<div>\n",
       "<style scoped>\n",
       "    .dataframe tbody tr th:only-of-type {\n",
       "        vertical-align: middle;\n",
       "    }\n",
       "\n",
       "    .dataframe tbody tr th {\n",
       "        vertical-align: top;\n",
       "    }\n",
       "\n",
       "    .dataframe thead th {\n",
       "        text-align: right;\n",
       "    }\n",
       "</style>\n",
       "<table border=\"1\" class=\"dataframe\">\n",
       "  <thead>\n",
       "    <tr style=\"text-align: right;\">\n",
       "      <th></th>\n",
       "      <th>station_id</th>\n",
       "      <th>time</th>\n",
       "      <th>station</th>\n",
       "      <th>n_stands</th>\n",
       "      <th>available_stands</th>\n",
       "      <th>available_bikes</th>\n",
       "      <th>lat</th>\n",
       "      <th>long</th>\n",
       "      <th>trips_started</th>\n",
       "      <th>trips_ended</th>\n",
       "      <th>total_trips_per_station</th>\n",
       "    </tr>\n",
       "  </thead>\n",
       "  <tbody>\n",
       "    <tr>\n",
       "      <th>614868</th>\n",
       "      <td>1</td>\n",
       "      <td>2022-04-27 13:00:02</td>\n",
       "      <td>CLARENDON ROW</td>\n",
       "      <td>31</td>\n",
       "      <td>27</td>\n",
       "      <td>0</td>\n",
       "      <td>53.3409</td>\n",
       "      <td>-6.2625</td>\n",
       "      <td>0.0</td>\n",
       "      <td>0.0</td>\n",
       "      <td>0.0</td>\n",
       "    </tr>\n",
       "    <tr>\n",
       "      <th>614980</th>\n",
       "      <td>1</td>\n",
       "      <td>2022-04-27 13:30:02</td>\n",
       "      <td>CLARENDON ROW</td>\n",
       "      <td>31</td>\n",
       "      <td>27</td>\n",
       "      <td>0</td>\n",
       "      <td>53.3409</td>\n",
       "      <td>-6.2625</td>\n",
       "      <td>0.0</td>\n",
       "      <td>0.0</td>\n",
       "      <td>0.0</td>\n",
       "    </tr>\n",
       "    <tr>\n",
       "      <th>615092</th>\n",
       "      <td>1</td>\n",
       "      <td>2022-04-27 14:00:02</td>\n",
       "      <td>CLARENDON ROW</td>\n",
       "      <td>31</td>\n",
       "      <td>27</td>\n",
       "      <td>0</td>\n",
       "      <td>53.3409</td>\n",
       "      <td>-6.2625</td>\n",
       "      <td>0.0</td>\n",
       "      <td>0.0</td>\n",
       "      <td>0.0</td>\n",
       "    </tr>\n",
       "    <tr>\n",
       "      <th>615204</th>\n",
       "      <td>1</td>\n",
       "      <td>2022-04-27 14:30:02</td>\n",
       "      <td>CLARENDON ROW</td>\n",
       "      <td>31</td>\n",
       "      <td>0</td>\n",
       "      <td>0</td>\n",
       "      <td>53.3409</td>\n",
       "      <td>-6.2625</td>\n",
       "      <td>0.0</td>\n",
       "      <td>0.0</td>\n",
       "      <td>0.0</td>\n",
       "    </tr>\n",
       "    <tr>\n",
       "      <th>615316</th>\n",
       "      <td>1</td>\n",
       "      <td>2022-04-27 15:00:02</td>\n",
       "      <td>CLARENDON ROW</td>\n",
       "      <td>31</td>\n",
       "      <td>0</td>\n",
       "      <td>0</td>\n",
       "      <td>53.3409</td>\n",
       "      <td>-6.2625</td>\n",
       "      <td>0.0</td>\n",
       "      <td>0.0</td>\n",
       "      <td>0.0</td>\n",
       "    </tr>\n",
       "  </tbody>\n",
       "</table>\n",
       "</div>"
      ],
      "text/plain": [
       "        station_id                time        station  n_stands  \\\n",
       "614868           1 2022-04-27 13:00:02  CLARENDON ROW        31   \n",
       "614980           1 2022-04-27 13:30:02  CLARENDON ROW        31   \n",
       "615092           1 2022-04-27 14:00:02  CLARENDON ROW        31   \n",
       "615204           1 2022-04-27 14:30:02  CLARENDON ROW        31   \n",
       "615316           1 2022-04-27 15:00:02  CLARENDON ROW        31   \n",
       "\n",
       "        available_stands  available_bikes      lat    long  trips_started  \\\n",
       "614868                27                0  53.3409 -6.2625            0.0   \n",
       "614980                27                0  53.3409 -6.2625            0.0   \n",
       "615092                27                0  53.3409 -6.2625            0.0   \n",
       "615204                 0                0  53.3409 -6.2625            0.0   \n",
       "615316                 0                0  53.3409 -6.2625            0.0   \n",
       "\n",
       "        trips_ended  total_trips_per_station  \n",
       "614868          0.0                      0.0  \n",
       "614980          0.0                      0.0  \n",
       "615092          0.0                      0.0  \n",
       "615204          0.0                      0.0  \n",
       "615316          0.0                      0.0  "
      ]
     },
     "execution_count": 29,
     "metadata": {},
     "output_type": "execute_result"
    }
   ],
   "source": [
    "dublin_total_trips.head()"
   ]
  },
  {
   "cell_type": "code",
   "execution_count": 30,
   "id": "72fec718-85fd-4892-89e0-8dc34057bad8",
   "metadata": {},
   "outputs": [],
   "source": [
    "# Calculating totals\n",
    "\n",
    "dublin_total_trips = dublin_total_trips.groupby(['station_id', 'station'])[['trips_started', 'trips_ended', 'total_trips_per_station']].sum().reset_index()"
   ]
  },
  {
   "cell_type": "code",
   "execution_count": 31,
   "id": "4c67eb1e-ef27-4312-97f4-224c46065489",
   "metadata": {},
   "outputs": [],
   "source": [
    "dublin_total_trips['trips_started'] = dublin_total_trips['trips_started'].astype(int)\n",
    "dublin_total_trips['trips_ended'] = dublin_total_trips['trips_ended'].astype(int)\n",
    "\n",
    "# Transforming columns datatypes\n",
    "\n",
    "dublin_total_trips['total_trips_per_station'] = dublin_total_trips['total_trips_per_station'].astype(int)\n"
   ]
  },
  {
   "cell_type": "code",
   "execution_count": 32,
   "id": "9b6bb756-db5d-41a2-9cd0-c1eb64cde387",
   "metadata": {},
   "outputs": [
    {
     "data": {
      "text/html": [
       "<div>\n",
       "<style scoped>\n",
       "    .dataframe tbody tr th:only-of-type {\n",
       "        vertical-align: middle;\n",
       "    }\n",
       "\n",
       "    .dataframe tbody tr th {\n",
       "        vertical-align: top;\n",
       "    }\n",
       "\n",
       "    .dataframe thead th {\n",
       "        text-align: right;\n",
       "    }\n",
       "</style>\n",
       "<table border=\"1\" class=\"dataframe\">\n",
       "  <thead>\n",
       "    <tr style=\"text-align: right;\">\n",
       "      <th></th>\n",
       "      <th>station_id</th>\n",
       "      <th>station</th>\n",
       "      <th>trips_started</th>\n",
       "      <th>trips_ended</th>\n",
       "      <th>total_trips_per_station</th>\n",
       "    </tr>\n",
       "  </thead>\n",
       "  <tbody>\n",
       "    <tr>\n",
       "      <th>110</th>\n",
       "      <td>114</td>\n",
       "      <td>WILTON TERRACE (PARK)</td>\n",
       "      <td>13717</td>\n",
       "      <td>13711</td>\n",
       "      <td>27428</td>\n",
       "    </tr>\n",
       "    <tr>\n",
       "      <th>111</th>\n",
       "      <td>115</td>\n",
       "      <td>KILLARNEY STREET</td>\n",
       "      <td>10800</td>\n",
       "      <td>10780</td>\n",
       "      <td>21580</td>\n",
       "    </tr>\n",
       "    <tr>\n",
       "      <th>112</th>\n",
       "      <td>116</td>\n",
       "      <td>BROADSTONE</td>\n",
       "      <td>5015</td>\n",
       "      <td>5008</td>\n",
       "      <td>10023</td>\n",
       "    </tr>\n",
       "    <tr>\n",
       "      <th>113</th>\n",
       "      <td>117</td>\n",
       "      <td>HANOVER QUAY EAST</td>\n",
       "      <td>4691</td>\n",
       "      <td>4689</td>\n",
       "      <td>9380</td>\n",
       "    </tr>\n",
       "    <tr>\n",
       "      <th>114</th>\n",
       "      <td>507</td>\n",
       "      <td>ORIEL STREET TEST TERMINAL</td>\n",
       "      <td>0</td>\n",
       "      <td>0</td>\n",
       "      <td>0</td>\n",
       "    </tr>\n",
       "  </tbody>\n",
       "</table>\n",
       "</div>"
      ],
      "text/plain": [
       "     station_id                     station  trips_started  trips_ended  \\\n",
       "110         114       WILTON TERRACE (PARK)          13717        13711   \n",
       "111         115            KILLARNEY STREET          10800        10780   \n",
       "112         116                  BROADSTONE           5015         5008   \n",
       "113         117           HANOVER QUAY EAST           4691         4689   \n",
       "114         507  ORIEL STREET TEST TERMINAL              0            0   \n",
       "\n",
       "     total_trips_per_station  \n",
       "110                    27428  \n",
       "111                    21580  \n",
       "112                    10023  \n",
       "113                     9380  \n",
       "114                        0  "
      ]
     },
     "execution_count": 32,
     "metadata": {},
     "output_type": "execute_result"
    }
   ],
   "source": [
    "dublin_total_trips.tail()"
   ]
  },
  {
   "cell_type": "markdown",
   "id": "a2723d75-c336-422f-b2e1-630921baa833",
   "metadata": {},
   "source": [
    "Dataset: Stations' locations"
   ]
  },
  {
   "cell_type": "code",
   "execution_count": 34,
   "id": "193a2a92-f847-4440-9fde-965ad936e277",
   "metadata": {},
   "outputs": [],
   "source": [
    "dublin_station_location = df_dublin[['station_id', 'station', 'lat', 'long']]"
   ]
  },
  {
   "cell_type": "code",
   "execution_count": 35,
   "id": "a678a673-6ce1-4596-904a-f637576cecc8",
   "metadata": {},
   "outputs": [
    {
     "data": {
      "text/html": [
       "<div>\n",
       "<style scoped>\n",
       "    .dataframe tbody tr th:only-of-type {\n",
       "        vertical-align: middle;\n",
       "    }\n",
       "\n",
       "    .dataframe tbody tr th {\n",
       "        vertical-align: top;\n",
       "    }\n",
       "\n",
       "    .dataframe thead th {\n",
       "        text-align: right;\n",
       "    }\n",
       "</style>\n",
       "<table border=\"1\" class=\"dataframe\">\n",
       "  <thead>\n",
       "    <tr style=\"text-align: right;\">\n",
       "      <th></th>\n",
       "      <th>station_id</th>\n",
       "      <th>station</th>\n",
       "      <th>lat</th>\n",
       "      <th>long</th>\n",
       "    </tr>\n",
       "  </thead>\n",
       "  <tbody>\n",
       "    <tr>\n",
       "      <th>0</th>\n",
       "      <td>2</td>\n",
       "      <td>BLESSINGTON STREET</td>\n",
       "      <td>53.3568</td>\n",
       "      <td>-6.26814</td>\n",
       "    </tr>\n",
       "    <tr>\n",
       "      <th>1</th>\n",
       "      <td>3</td>\n",
       "      <td>BOLTON STREET</td>\n",
       "      <td>53.3512</td>\n",
       "      <td>-6.26986</td>\n",
       "    </tr>\n",
       "    <tr>\n",
       "      <th>2</th>\n",
       "      <td>4</td>\n",
       "      <td>GREEK STREET</td>\n",
       "      <td>53.3469</td>\n",
       "      <td>-6.27298</td>\n",
       "    </tr>\n",
       "    <tr>\n",
       "      <th>3</th>\n",
       "      <td>5</td>\n",
       "      <td>CHARLEMONT PLACE</td>\n",
       "      <td>53.3307</td>\n",
       "      <td>-6.26018</td>\n",
       "    </tr>\n",
       "    <tr>\n",
       "      <th>4</th>\n",
       "      <td>6</td>\n",
       "      <td>CHRISTCHURCH PLACE</td>\n",
       "      <td>53.3434</td>\n",
       "      <td>-6.27012</td>\n",
       "    </tr>\n",
       "  </tbody>\n",
       "</table>\n",
       "</div>"
      ],
      "text/plain": [
       "   station_id             station      lat     long\n",
       "0           2  BLESSINGTON STREET  53.3568 -6.26814\n",
       "1           3       BOLTON STREET  53.3512 -6.26986\n",
       "2           4        GREEK STREET  53.3469 -6.27298\n",
       "3           5    CHARLEMONT PLACE  53.3307 -6.26018\n",
       "4           6  CHRISTCHURCH PLACE  53.3434 -6.27012"
      ]
     },
     "execution_count": 35,
     "metadata": {},
     "output_type": "execute_result"
    }
   ],
   "source": [
    "dublin_station_location.head(5)"
   ]
  },
  {
   "cell_type": "markdown",
   "id": "06174c2b-3e6f-48c9-b4ee-7aeb7de25912",
   "metadata": {},
   "source": [
    "## 1.2. Boston Blue Bikes"
   ]
  },
  {
   "cell_type": "markdown",
   "id": "27e0a239-2f7b-428d-8363-81bb2824718b",
   "metadata": {},
   "source": [
    "The same process for concatenating files will be used for the following Boston Bikes datasets.\n",
    "\n",
    "Font: https://medium.com/@nawazmohtashim/method-to-merge-csv-files-in-python-8b0f16550e0b"
   ]
  },
  {
   "cell_type": "code",
   "execution_count": 38,
   "id": "7746f2b8-2ab3-4664-9589-f4afe30b5f17",
   "metadata": {
    "scrolled": true
   },
   "outputs": [
    {
     "name": "stdout",
     "output_type": "stream",
     "text": [
      "['.DS_Store', '._.DS_Store', '._202201-bluebikes-tripdata.csv', '._202202-bluebikes-tripdata.csv', '._202203-bluebikes-tripdata.csv', '._202204-bluebikes-tripdata.csv', '._202205-bluebikes-tripdata.csv', '._202206-bluebikes-tripdata.csv', '._202207-bluebikes-tripdata.csv', '._202208-bluebikes-tripdata.csv', '._202209-bluebikes-tripdata.csv', '._202210-bluebikes-tripdata.csv', '._202211-bluebikes-tripdata.csv', '._202212-bluebikes-tripdata.csv', '2022-bluebikes-tripdata.csv', '202201-bluebikes-tripdata.csv', '202202-bluebikes-tripdata.csv', '202203-bluebikes-tripdata.csv', '202204-bluebikes-tripdata.csv', '202205-bluebikes-tripdata.csv', '202206-bluebikes-tripdata.csv', '202207-bluebikes-tripdata.csv', '202208-bluebikes-tripdata.csv', '202209-bluebikes-tripdata.csv', '202210-bluebikes-tripdata.csv', '202211-bluebikes-tripdata.csv', '202212-bluebikes-tripdata.csv']\n"
     ]
    }
   ],
   "source": [
    "# Listing the files and sorting them by name in the boston_data folder so they do not have to be typed one by one. Adapted from: https://stevenhough.medium.com/how-to-easily-list-all-files-in-a-folder-using-python-3-ee06004c6316\n",
    "\n",
    "folder_path = '/home/user/Documents/GitHub/boston_data'\n",
    "\n",
    "file_list = sorted([f for f in os.listdir(folder_path) if os.path.isfile(os.path.join(folder_path, f))])\n",
    "\n",
    "print(file_list)"
   ]
  },
  {
   "cell_type": "markdown",
   "id": "b1a4afa5-048e-47b8-b25b-05e4adfd266d",
   "metadata": {},
   "source": [
    "Creating a list with the files."
   ]
  },
  {
   "cell_type": "code",
   "execution_count": 40,
   "id": "30955815-ff97-484d-9338-1c336cc64362",
   "metadata": {},
   "outputs": [],
   "source": [
    "boston_months_dfs = ['/home/user/Documents/GitHub/boston_data/202201-bluebikes-tripdata.csv', '/home/user/Documents/GitHub/boston_data/202202-bluebikes-tripdata.csv', '/home/user/Documents/GitHub/boston_data/202203-bluebikes-tripdata.csv',\n",
    "                     '/home/user/Documents/GitHub/boston_data/202204-bluebikes-tripdata.csv', '/home/user/Documents/GitHub/boston_data/202205-bluebikes-tripdata.csv', '/home/user/Documents/GitHub/boston_data/202206-bluebikes-tripdata.csv', \n",
    "                     '/home/user/Documents/GitHub/boston_data/202207-bluebikes-tripdata.csv', '/home/user/Documents/GitHub/boston_data/202208-bluebikes-tripdata.csv', '/home/user/Documents/GitHub/boston_data/202209-bluebikes-tripdata.csv', \n",
    "                     '/home/user/Documents/GitHub/boston_data/202210-bluebikes-tripdata.csv', '/home/user/Documents/GitHub/boston_data/202211-bluebikes-tripdata.csv', '/home/user/Documents/GitHub/boston_data/202212-bluebikes-tripdata.csv']"
   ]
  },
  {
   "cell_type": "code",
   "execution_count": 41,
   "id": "a2d5f9b1-a33c-458f-97b7-4889d93ceb8b",
   "metadata": {},
   "outputs": [],
   "source": [
    "df_boston = pd.DataFrame()\n",
    "\n",
    "# For loop for merging data\n",
    "\n",
    "for boston_months_dfs in boston_months_dfs:\n",
    "    df = pd.read_csv(boston_months_dfs)\n",
    "    df_boston = pd.concat([df_boston, df], ignore_index=True)\n",
    "\n",
    "# Saving a new .csv file with the merged data\n",
    "\n",
    "df_boston.to_csv('/home/user/Documents/GitHub/boston_data/2022-bluebikes-tripdata.csv', index=False)"
   ]
  },
  {
   "cell_type": "code",
   "execution_count": 42,
   "id": "8ac8f82c-0225-421c-8f26-5194ab7efd2f",
   "metadata": {},
   "outputs": [],
   "source": [
    "df_boston = pd.read_csv('/home/user/Documents/GitHub/boston_data/2022-bluebikes-tripdata.csv')"
   ]
  },
  {
   "cell_type": "markdown",
   "id": "00312bac-8746-4895-b54f-4e491345ce56",
   "metadata": {},
   "source": [
    "Inspect data."
   ]
  },
  {
   "cell_type": "code",
   "execution_count": 44,
   "id": "e85fbd91-5b3f-4302-b187-2e8d4ed60a63",
   "metadata": {},
   "outputs": [
    {
     "name": "stdout",
     "output_type": "stream",
     "text": [
      "<class 'pandas.core.frame.DataFrame'>\n",
      "RangeIndex: 3757281 entries, 0 to 3757280\n",
      "Data columns (total 14 columns):\n",
      " #   Column                   Dtype  \n",
      "---  ------                   -----  \n",
      " 0   tripduration             int64  \n",
      " 1   starttime                object \n",
      " 2   stoptime                 object \n",
      " 3   start station id         int64  \n",
      " 4   start station name       object \n",
      " 5   start station latitude   float64\n",
      " 6   start station longitude  float64\n",
      " 7   end station id           int64  \n",
      " 8   end station name         object \n",
      " 9   end station latitude     float64\n",
      " 10  end station longitude    float64\n",
      " 11  bikeid                   int64  \n",
      " 12  usertype                 object \n",
      " 13  postal code              object \n",
      "dtypes: float64(4), int64(4), object(6)\n",
      "memory usage: 401.3+ MB\n"
     ]
    }
   ],
   "source": [
    "df_boston.info()"
   ]
  },
  {
   "cell_type": "code",
   "execution_count": 45,
   "id": "5e5e3a15-138b-4a67-8bf3-71381c1a78a2",
   "metadata": {},
   "outputs": [
    {
     "data": {
      "text/html": [
       "<div>\n",
       "<style scoped>\n",
       "    .dataframe tbody tr th:only-of-type {\n",
       "        vertical-align: middle;\n",
       "    }\n",
       "\n",
       "    .dataframe tbody tr th {\n",
       "        vertical-align: top;\n",
       "    }\n",
       "\n",
       "    .dataframe thead th {\n",
       "        text-align: right;\n",
       "    }\n",
       "</style>\n",
       "<table border=\"1\" class=\"dataframe\">\n",
       "  <thead>\n",
       "    <tr style=\"text-align: right;\">\n",
       "      <th></th>\n",
       "      <th>tripduration</th>\n",
       "      <th>starttime</th>\n",
       "      <th>stoptime</th>\n",
       "      <th>start station id</th>\n",
       "      <th>start station name</th>\n",
       "      <th>start station latitude</th>\n",
       "      <th>start station longitude</th>\n",
       "      <th>end station id</th>\n",
       "      <th>end station name</th>\n",
       "      <th>end station latitude</th>\n",
       "      <th>end station longitude</th>\n",
       "      <th>bikeid</th>\n",
       "      <th>usertype</th>\n",
       "      <th>postal code</th>\n",
       "    </tr>\n",
       "  </thead>\n",
       "  <tbody>\n",
       "    <tr>\n",
       "      <th>3757278</th>\n",
       "      <td>958</td>\n",
       "      <td>2022-12-31 23:53:42.9690</td>\n",
       "      <td>2023-01-01 00:09:41.0970</td>\n",
       "      <td>49</td>\n",
       "      <td>Stuart St at Charles St</td>\n",
       "      <td>42.351146</td>\n",
       "      <td>-71.066289</td>\n",
       "      <td>16</td>\n",
       "      <td>Back Bay T Stop - Dartmouth St at Stuart St</td>\n",
       "      <td>42.348074</td>\n",
       "      <td>-71.076570</td>\n",
       "      <td>7898</td>\n",
       "      <td>Customer</td>\n",
       "      <td>02141</td>\n",
       "    </tr>\n",
       "    <tr>\n",
       "      <th>3757279</th>\n",
       "      <td>995</td>\n",
       "      <td>2022-12-31 23:58:11.1980</td>\n",
       "      <td>2023-01-01 00:14:46.7870</td>\n",
       "      <td>39</td>\n",
       "      <td>Washington St at Rutland St</td>\n",
       "      <td>42.338515</td>\n",
       "      <td>-71.074041</td>\n",
       "      <td>43</td>\n",
       "      <td>Rowes Wharf at Atlantic Ave</td>\n",
       "      <td>42.357143</td>\n",
       "      <td>-71.050699</td>\n",
       "      <td>8330</td>\n",
       "      <td>Subscriber</td>\n",
       "      <td>02116</td>\n",
       "    </tr>\n",
       "    <tr>\n",
       "      <th>3757280</th>\n",
       "      <td>969</td>\n",
       "      <td>2022-12-31 23:58:30.1460</td>\n",
       "      <td>2023-01-01 00:14:39.4400</td>\n",
       "      <td>39</td>\n",
       "      <td>Washington St at Rutland St</td>\n",
       "      <td>42.338515</td>\n",
       "      <td>-71.074041</td>\n",
       "      <td>43</td>\n",
       "      <td>Rowes Wharf at Atlantic Ave</td>\n",
       "      <td>42.357143</td>\n",
       "      <td>-71.050699</td>\n",
       "      <td>3886</td>\n",
       "      <td>Subscriber</td>\n",
       "      <td>NaN</td>\n",
       "    </tr>\n",
       "  </tbody>\n",
       "</table>\n",
       "</div>"
      ],
      "text/plain": [
       "         tripduration                 starttime                  stoptime  \\\n",
       "3757278           958  2022-12-31 23:53:42.9690  2023-01-01 00:09:41.0970   \n",
       "3757279           995  2022-12-31 23:58:11.1980  2023-01-01 00:14:46.7870   \n",
       "3757280           969  2022-12-31 23:58:30.1460  2023-01-01 00:14:39.4400   \n",
       "\n",
       "         start station id           start station name  \\\n",
       "3757278                49      Stuart St at Charles St   \n",
       "3757279                39  Washington St at Rutland St   \n",
       "3757280                39  Washington St at Rutland St   \n",
       "\n",
       "         start station latitude  start station longitude  end station id  \\\n",
       "3757278               42.351146               -71.066289              16   \n",
       "3757279               42.338515               -71.074041              43   \n",
       "3757280               42.338515               -71.074041              43   \n",
       "\n",
       "                                    end station name  end station latitude  \\\n",
       "3757278  Back Bay T Stop - Dartmouth St at Stuart St             42.348074   \n",
       "3757279                  Rowes Wharf at Atlantic Ave             42.357143   \n",
       "3757280                  Rowes Wharf at Atlantic Ave             42.357143   \n",
       "\n",
       "         end station longitude  bikeid    usertype postal code  \n",
       "3757278             -71.076570    7898    Customer       02141  \n",
       "3757279             -71.050699    8330  Subscriber       02116  \n",
       "3757280             -71.050699    3886  Subscriber         NaN  "
      ]
     },
     "execution_count": 45,
     "metadata": {},
     "output_type": "execute_result"
    }
   ],
   "source": [
    "df_boston.tail(3)"
   ]
  },
  {
   "cell_type": "markdown",
   "id": "f790c1e5-6930-431e-ad14-3b873015ff26",
   "metadata": {},
   "source": [
    "Handling missing data."
   ]
  },
  {
   "cell_type": "code",
   "execution_count": 47,
   "id": "dde8e7a8-3d20-45c5-b3f8-8054987789ea",
   "metadata": {},
   "outputs": [
    {
     "data": {
      "text/plain": [
       "tripduration                    0\n",
       "starttime                       0\n",
       "stoptime                        0\n",
       "start station id                0\n",
       "start station name              0\n",
       "start station latitude          0\n",
       "start station longitude         0\n",
       "end station id                  0\n",
       "end station name                0\n",
       "end station latitude            0\n",
       "end station longitude           0\n",
       "bikeid                          0\n",
       "usertype                        0\n",
       "postal code                465637\n",
       "dtype: int64"
      ]
     },
     "execution_count": 47,
     "metadata": {},
     "output_type": "execute_result"
    }
   ],
   "source": [
    "# Since only postal code has null values and it is an irrelevant variable for the analysis, it will be dropped latter.\n",
    "\n",
    "df_boston.isnull().sum()"
   ]
  },
  {
   "cell_type": "markdown",
   "id": "688551ef-8927-4155-a459-d87cc118c360",
   "metadata": {},
   "source": [
    "Transforming Dtypes"
   ]
  },
  {
   "cell_type": "code",
   "execution_count": 49,
   "id": "a8e06057-6990-4d19-a3ff-ee6e2005a2f9",
   "metadata": {},
   "outputs": [],
   "source": [
    "df_boston['starttime'] = pd.to_datetime(df_boston['starttime'])\n",
    "df_boston['stoptime'] = pd.to_datetime(df_boston['stoptime'])"
   ]
  },
  {
   "cell_type": "markdown",
   "id": "3d850172-00a7-450c-b8f2-c622a5b59bc2",
   "metadata": {},
   "source": [
    "Dropping, renaming, and detecting duplicates."
   ]
  },
  {
   "cell_type": "code",
   "execution_count": 51,
   "id": "4aae144b-650f-48d1-86d6-7d33c85b753c",
   "metadata": {},
   "outputs": [],
   "source": [
    "# Dropping redundant / unecessary columns.\n",
    "\n",
    "drop_column_boston_1 = ['tripduration', 'usertype', 'postal code', 'bikeid'] \n",
    "df_boston = df_boston.drop(columns = drop_column_boston_1)"
   ]
  },
  {
   "cell_type": "code",
   "execution_count": 52,
   "id": "2d8cf848-4040-4396-8983-4ac4c84f11f4",
   "metadata": {},
   "outputs": [],
   "source": [
    "# Renaming columns for better vizualisation.\n",
    "\n",
    "df_boston.rename(columns={ 'start station id': 'start_station_id', 'start station name': 'start_station', 'start station id': 'start_station_id', \n",
    "                          'start station latitude': 'start_station_lat', 'start station longitude': 'start_station_long',\n",
    "                          \n",
    "                         'end station id': 'end_station_id', 'end station name': 'end_station', 'end station id': 'end_station_id', \n",
    "                          'end station latitude': 'end_station_lat', 'end station longitude': 'end_station_long'}, inplace=True)"
   ]
  },
  {
   "cell_type": "code",
   "execution_count": 53,
   "id": "944885c4-e9f0-4a01-a667-0f48fc6d00df",
   "metadata": {},
   "outputs": [
    {
     "data": {
      "text/html": [
       "<div>\n",
       "<style scoped>\n",
       "    .dataframe tbody tr th:only-of-type {\n",
       "        vertical-align: middle;\n",
       "    }\n",
       "\n",
       "    .dataframe tbody tr th {\n",
       "        vertical-align: top;\n",
       "    }\n",
       "\n",
       "    .dataframe thead th {\n",
       "        text-align: right;\n",
       "    }\n",
       "</style>\n",
       "<table border=\"1\" class=\"dataframe\">\n",
       "  <thead>\n",
       "    <tr style=\"text-align: right;\">\n",
       "      <th></th>\n",
       "      <th>starttime</th>\n",
       "      <th>stoptime</th>\n",
       "      <th>start_station_id</th>\n",
       "      <th>start_station</th>\n",
       "      <th>start_station_lat</th>\n",
       "      <th>start_station_long</th>\n",
       "      <th>end_station_id</th>\n",
       "      <th>end_station</th>\n",
       "      <th>end_station_lat</th>\n",
       "      <th>end_station_long</th>\n",
       "    </tr>\n",
       "  </thead>\n",
       "  <tbody>\n",
       "    <tr>\n",
       "      <th>0</th>\n",
       "      <td>2022-01-01 00:00:25.166</td>\n",
       "      <td>2022-01-01 00:10:22.192</td>\n",
       "      <td>178</td>\n",
       "      <td>MIT Pacific St at Purrington St</td>\n",
       "      <td>42.359573</td>\n",
       "      <td>-71.101295</td>\n",
       "      <td>74</td>\n",
       "      <td>Harvard Square at Mass Ave/ Dunster</td>\n",
       "      <td>42.373268</td>\n",
       "      <td>-71.118579</td>\n",
       "    </tr>\n",
       "    <tr>\n",
       "      <th>1</th>\n",
       "      <td>2022-01-01 00:00:40.430</td>\n",
       "      <td>2022-01-01 00:07:32.198</td>\n",
       "      <td>189</td>\n",
       "      <td>Kendall T</td>\n",
       "      <td>42.362428</td>\n",
       "      <td>-71.084955</td>\n",
       "      <td>178</td>\n",
       "      <td>MIT Pacific St at Purrington St</td>\n",
       "      <td>42.359573</td>\n",
       "      <td>-71.101295</td>\n",
       "    </tr>\n",
       "    <tr>\n",
       "      <th>2</th>\n",
       "      <td>2022-01-01 00:00:54.818</td>\n",
       "      <td>2022-01-01 00:08:51.668</td>\n",
       "      <td>94</td>\n",
       "      <td>Main St at Austin St</td>\n",
       "      <td>42.375603</td>\n",
       "      <td>-71.064608</td>\n",
       "      <td>356</td>\n",
       "      <td>Charlestown Navy Yard</td>\n",
       "      <td>42.374125</td>\n",
       "      <td>-71.054812</td>\n",
       "    </tr>\n",
       "    <tr>\n",
       "      <th>3</th>\n",
       "      <td>2022-01-01 00:01:01.608</td>\n",
       "      <td>2022-01-01 00:08:48.235</td>\n",
       "      <td>94</td>\n",
       "      <td>Main St at Austin St</td>\n",
       "      <td>42.375603</td>\n",
       "      <td>-71.064608</td>\n",
       "      <td>356</td>\n",
       "      <td>Charlestown Navy Yard</td>\n",
       "      <td>42.374125</td>\n",
       "      <td>-71.054812</td>\n",
       "    </tr>\n",
       "    <tr>\n",
       "      <th>4</th>\n",
       "      <td>2022-01-01 00:01:06.052</td>\n",
       "      <td>2022-01-01 00:13:38.230</td>\n",
       "      <td>19</td>\n",
       "      <td>Park Dr at Buswell St</td>\n",
       "      <td>42.347241</td>\n",
       "      <td>-71.105301</td>\n",
       "      <td>41</td>\n",
       "      <td>Packard's Corner - Commonwealth Ave at Brighto...</td>\n",
       "      <td>42.352261</td>\n",
       "      <td>-71.123831</td>\n",
       "    </tr>\n",
       "  </tbody>\n",
       "</table>\n",
       "</div>"
      ],
      "text/plain": [
       "                starttime                stoptime  start_station_id  \\\n",
       "0 2022-01-01 00:00:25.166 2022-01-01 00:10:22.192               178   \n",
       "1 2022-01-01 00:00:40.430 2022-01-01 00:07:32.198               189   \n",
       "2 2022-01-01 00:00:54.818 2022-01-01 00:08:51.668                94   \n",
       "3 2022-01-01 00:01:01.608 2022-01-01 00:08:48.235                94   \n",
       "4 2022-01-01 00:01:06.052 2022-01-01 00:13:38.230                19   \n",
       "\n",
       "                     start_station  start_station_lat  start_station_long  \\\n",
       "0  MIT Pacific St at Purrington St          42.359573          -71.101295   \n",
       "1                        Kendall T          42.362428          -71.084955   \n",
       "2             Main St at Austin St          42.375603          -71.064608   \n",
       "3             Main St at Austin St          42.375603          -71.064608   \n",
       "4            Park Dr at Buswell St          42.347241          -71.105301   \n",
       "\n",
       "   end_station_id                                        end_station  \\\n",
       "0              74                Harvard Square at Mass Ave/ Dunster   \n",
       "1             178                    MIT Pacific St at Purrington St   \n",
       "2             356                              Charlestown Navy Yard   \n",
       "3             356                              Charlestown Navy Yard   \n",
       "4              41  Packard's Corner - Commonwealth Ave at Brighto...   \n",
       "\n",
       "   end_station_lat  end_station_long  \n",
       "0        42.373268        -71.118579  \n",
       "1        42.359573        -71.101295  \n",
       "2        42.374125        -71.054812  \n",
       "3        42.374125        -71.054812  \n",
       "4        42.352261        -71.123831  "
      ]
     },
     "execution_count": 53,
     "metadata": {},
     "output_type": "execute_result"
    }
   ],
   "source": [
    "df_boston.head()"
   ]
  },
  {
   "cell_type": "markdown",
   "id": "e6d071c3-c00a-42d4-8e11-7bafb15665df",
   "metadata": {},
   "source": [
    "Data engineering for specific data and creation of lighter datasets for diferent analysis."
   ]
  },
  {
   "cell_type": "markdown",
   "id": "db5e3dc9-6777-4fdc-9ea0-ff1e5901dd03",
   "metadata": {},
   "source": [
    "Dataset: number of trips"
   ]
  },
  {
   "cell_type": "code",
   "execution_count": 56,
   "id": "facc4753-b4b5-4112-b72d-aa5159f6a1c3",
   "metadata": {},
   "outputs": [],
   "source": [
    "# Calculating the number of trips starting and ending at each station.\n",
    "\n",
    "trips_started = df_boston.groupby(['start_station_id', 'start_station']).size().reset_index(name='trips_started')\n",
    "trips_ended = df_boston.groupby(['end_station_id', 'end_station']).size().reset_index(name='trips_ended')"
   ]
  },
  {
   "cell_type": "code",
   "execution_count": 57,
   "id": "f4b1337b-be10-4250-b9c4-72fc54c56568",
   "metadata": {},
   "outputs": [
    {
     "data": {
      "text/html": [
       "<div>\n",
       "<style scoped>\n",
       "    .dataframe tbody tr th:only-of-type {\n",
       "        vertical-align: middle;\n",
       "    }\n",
       "\n",
       "    .dataframe tbody tr th {\n",
       "        vertical-align: top;\n",
       "    }\n",
       "\n",
       "    .dataframe thead th {\n",
       "        text-align: right;\n",
       "    }\n",
       "</style>\n",
       "<table border=\"1\" class=\"dataframe\">\n",
       "  <thead>\n",
       "    <tr style=\"text-align: right;\">\n",
       "      <th></th>\n",
       "      <th>start_station_id</th>\n",
       "      <th>start_station</th>\n",
       "      <th>trips_started</th>\n",
       "    </tr>\n",
       "  </thead>\n",
       "  <tbody>\n",
       "    <tr>\n",
       "      <th>456</th>\n",
       "      <td>586</td>\n",
       "      <td>Gramsdorf Playground</td>\n",
       "      <td>146</td>\n",
       "    </tr>\n",
       "    <tr>\n",
       "      <th>457</th>\n",
       "      <td>587</td>\n",
       "      <td>Malden High School</td>\n",
       "      <td>108</td>\n",
       "    </tr>\n",
       "    <tr>\n",
       "      <th>458</th>\n",
       "      <td>589</td>\n",
       "      <td>North St at Liberty Hill Ave</td>\n",
       "      <td>11</td>\n",
       "    </tr>\n",
       "    <tr>\n",
       "      <th>459</th>\n",
       "      <td>590</td>\n",
       "      <td>John Ahern Field at Kennedy-Longfellow School</td>\n",
       "      <td>304</td>\n",
       "    </tr>\n",
       "    <tr>\n",
       "      <th>460</th>\n",
       "      <td>591</td>\n",
       "      <td>515 Somerville Ave (Temp. Winter Location)</td>\n",
       "      <td>323</td>\n",
       "    </tr>\n",
       "  </tbody>\n",
       "</table>\n",
       "</div>"
      ],
      "text/plain": [
       "     start_station_id                                  start_station  \\\n",
       "456               586                           Gramsdorf Playground   \n",
       "457               587                             Malden High School   \n",
       "458               589                   North St at Liberty Hill Ave   \n",
       "459               590  John Ahern Field at Kennedy-Longfellow School   \n",
       "460               591     515 Somerville Ave (Temp. Winter Location)   \n",
       "\n",
       "     trips_started  \n",
       "456            146  \n",
       "457            108  \n",
       "458             11  \n",
       "459            304  \n",
       "460            323  "
      ]
     },
     "execution_count": 57,
     "metadata": {},
     "output_type": "execute_result"
    }
   ],
   "source": [
    "trips_started.tail(5)"
   ]
  },
  {
   "cell_type": "code",
   "execution_count": 58,
   "id": "f1967ba8-2c4c-4851-a64b-71cabbfbda07",
   "metadata": {},
   "outputs": [
    {
     "data": {
      "text/html": [
       "<div>\n",
       "<style scoped>\n",
       "    .dataframe tbody tr th:only-of-type {\n",
       "        vertical-align: middle;\n",
       "    }\n",
       "\n",
       "    .dataframe tbody tr th {\n",
       "        vertical-align: top;\n",
       "    }\n",
       "\n",
       "    .dataframe thead th {\n",
       "        text-align: right;\n",
       "    }\n",
       "</style>\n",
       "<table border=\"1\" class=\"dataframe\">\n",
       "  <thead>\n",
       "    <tr style=\"text-align: right;\">\n",
       "      <th></th>\n",
       "      <th>end_station_id</th>\n",
       "      <th>end_station</th>\n",
       "      <th>trips_ended</th>\n",
       "    </tr>\n",
       "  </thead>\n",
       "  <tbody>\n",
       "    <tr>\n",
       "      <th>456</th>\n",
       "      <td>586</td>\n",
       "      <td>Gramsdorf Playground</td>\n",
       "      <td>130</td>\n",
       "    </tr>\n",
       "    <tr>\n",
       "      <th>457</th>\n",
       "      <td>587</td>\n",
       "      <td>Malden High School</td>\n",
       "      <td>115</td>\n",
       "    </tr>\n",
       "    <tr>\n",
       "      <th>458</th>\n",
       "      <td>589</td>\n",
       "      <td>North St at Liberty Hill Ave</td>\n",
       "      <td>7</td>\n",
       "    </tr>\n",
       "    <tr>\n",
       "      <th>459</th>\n",
       "      <td>590</td>\n",
       "      <td>John Ahern Field at Kennedy-Longfellow School</td>\n",
       "      <td>282</td>\n",
       "    </tr>\n",
       "    <tr>\n",
       "      <th>460</th>\n",
       "      <td>591</td>\n",
       "      <td>515 Somerville Ave (Temp. Winter Location)</td>\n",
       "      <td>384</td>\n",
       "    </tr>\n",
       "  </tbody>\n",
       "</table>\n",
       "</div>"
      ],
      "text/plain": [
       "     end_station_id                                    end_station  \\\n",
       "456             586                           Gramsdorf Playground   \n",
       "457             587                             Malden High School   \n",
       "458             589                   North St at Liberty Hill Ave   \n",
       "459             590  John Ahern Field at Kennedy-Longfellow School   \n",
       "460             591     515 Somerville Ave (Temp. Winter Location)   \n",
       "\n",
       "     trips_ended  \n",
       "456          130  \n",
       "457          115  \n",
       "458            7  \n",
       "459          282  \n",
       "460          384  "
      ]
     },
     "execution_count": 58,
     "metadata": {},
     "output_type": "execute_result"
    }
   ],
   "source": [
    "trips_ended.tail(5)"
   ]
  },
  {
   "cell_type": "code",
   "execution_count": 59,
   "id": "a6e1d84b-a7b2-470d-aded-c043ad89b4c0",
   "metadata": {},
   "outputs": [],
   "source": [
    "# Merging and getting the total ammount of trips per station.\n",
    "\n",
    "boston_total_trips = pd.merge(trips_started, trips_ended, left_on = 'start_station_id', right_on = 'end_station_id')"
   ]
  },
  {
   "cell_type": "code",
   "execution_count": 60,
   "id": "6b2737e6-31c8-4814-b7a1-4c2ecaeba772",
   "metadata": {},
   "outputs": [
    {
     "data": {
      "text/html": [
       "<div>\n",
       "<style scoped>\n",
       "    .dataframe tbody tr th:only-of-type {\n",
       "        vertical-align: middle;\n",
       "    }\n",
       "\n",
       "    .dataframe tbody tr th {\n",
       "        vertical-align: top;\n",
       "    }\n",
       "\n",
       "    .dataframe thead th {\n",
       "        text-align: right;\n",
       "    }\n",
       "</style>\n",
       "<table border=\"1\" class=\"dataframe\">\n",
       "  <thead>\n",
       "    <tr style=\"text-align: right;\">\n",
       "      <th></th>\n",
       "      <th>start_station_id</th>\n",
       "      <th>start_station</th>\n",
       "      <th>trips_started</th>\n",
       "      <th>end_station_id</th>\n",
       "      <th>end_station</th>\n",
       "      <th>trips_ended</th>\n",
       "    </tr>\n",
       "  </thead>\n",
       "  <tbody>\n",
       "    <tr>\n",
       "      <th>0</th>\n",
       "      <td>1</td>\n",
       "      <td>18 Dorrance Warehouse</td>\n",
       "      <td>37</td>\n",
       "      <td>1</td>\n",
       "      <td>18 Dorrance Warehouse</td>\n",
       "      <td>646</td>\n",
       "    </tr>\n",
       "    <tr>\n",
       "      <th>1</th>\n",
       "      <td>3</td>\n",
       "      <td>Colleges of the Fenway - Fenway at Avenue Loui...</td>\n",
       "      <td>9957</td>\n",
       "      <td>3</td>\n",
       "      <td>Colleges of the Fenway - Fenway at Avenue Loui...</td>\n",
       "      <td>10291</td>\n",
       "    </tr>\n",
       "    <tr>\n",
       "      <th>2</th>\n",
       "      <td>4</td>\n",
       "      <td>Tremont St at E Berkeley St</td>\n",
       "      <td>14900</td>\n",
       "      <td>4</td>\n",
       "      <td>Tremont St at E Berkeley St</td>\n",
       "      <td>15318</td>\n",
       "    </tr>\n",
       "    <tr>\n",
       "      <th>3</th>\n",
       "      <td>5</td>\n",
       "      <td>Northeastern University - North Parking Lot</td>\n",
       "      <td>11861</td>\n",
       "      <td>5</td>\n",
       "      <td>Northeastern University - North Parking Lot</td>\n",
       "      <td>12297</td>\n",
       "    </tr>\n",
       "    <tr>\n",
       "      <th>4</th>\n",
       "      <td>6</td>\n",
       "      <td>Cambridge St at Joy St</td>\n",
       "      <td>20750</td>\n",
       "      <td>6</td>\n",
       "      <td>Cambridge St at Joy St</td>\n",
       "      <td>20229</td>\n",
       "    </tr>\n",
       "  </tbody>\n",
       "</table>\n",
       "</div>"
      ],
      "text/plain": [
       "   start_station_id                                      start_station  \\\n",
       "0                 1                              18 Dorrance Warehouse   \n",
       "1                 3  Colleges of the Fenway - Fenway at Avenue Loui...   \n",
       "2                 4                        Tremont St at E Berkeley St   \n",
       "3                 5        Northeastern University - North Parking Lot   \n",
       "4                 6                             Cambridge St at Joy St   \n",
       "\n",
       "   trips_started  end_station_id  \\\n",
       "0             37               1   \n",
       "1           9957               3   \n",
       "2          14900               4   \n",
       "3          11861               5   \n",
       "4          20750               6   \n",
       "\n",
       "                                         end_station  trips_ended  \n",
       "0                              18 Dorrance Warehouse          646  \n",
       "1  Colleges of the Fenway - Fenway at Avenue Loui...        10291  \n",
       "2                        Tremont St at E Berkeley St        15318  \n",
       "3        Northeastern University - North Parking Lot        12297  \n",
       "4                             Cambridge St at Joy St        20229  "
      ]
     },
     "execution_count": 60,
     "metadata": {},
     "output_type": "execute_result"
    }
   ],
   "source": [
    "boston_total_trips.head()"
   ]
  },
  {
   "cell_type": "code",
   "execution_count": 61,
   "id": "4a92dc09-93f1-4225-9438-359bc90a18fa",
   "metadata": {},
   "outputs": [],
   "source": [
    "# Cleaning and renaming.\n",
    "\n",
    "boston_total_trips.rename(columns={'start_station_id': 'station_id', 'start_station': 'station_name'}, inplace=True)\n",
    "boston_total_trips = boston_total_trips.drop(columns = ['end_station_id', 'end_station'])"
   ]
  },
  {
   "cell_type": "code",
   "execution_count": 62,
   "id": "23b188bf-bae1-4399-b606-434858a3b738",
   "metadata": {},
   "outputs": [],
   "source": [
    "# Adding total.\n",
    "\n",
    "boston_total_trips['total_trips']= boston_total_trips['trips_started']+boston_total_trips['trips_ended']\n"
   ]
  },
  {
   "cell_type": "code",
   "execution_count": 63,
   "id": "31fcdc85-f25f-4ebd-9a10-b8d848ef5295",
   "metadata": {},
   "outputs": [
    {
     "data": {
      "text/html": [
       "<div>\n",
       "<style scoped>\n",
       "    .dataframe tbody tr th:only-of-type {\n",
       "        vertical-align: middle;\n",
       "    }\n",
       "\n",
       "    .dataframe tbody tr th {\n",
       "        vertical-align: top;\n",
       "    }\n",
       "\n",
       "    .dataframe thead th {\n",
       "        text-align: right;\n",
       "    }\n",
       "</style>\n",
       "<table border=\"1\" class=\"dataframe\">\n",
       "  <thead>\n",
       "    <tr style=\"text-align: right;\">\n",
       "      <th></th>\n",
       "      <th>station_id</th>\n",
       "      <th>station_name</th>\n",
       "      <th>trips_started</th>\n",
       "      <th>trips_ended</th>\n",
       "      <th>total_trips</th>\n",
       "    </tr>\n",
       "  </thead>\n",
       "  <tbody>\n",
       "    <tr>\n",
       "      <th>0</th>\n",
       "      <td>1</td>\n",
       "      <td>18 Dorrance Warehouse</td>\n",
       "      <td>37</td>\n",
       "      <td>646</td>\n",
       "      <td>683</td>\n",
       "    </tr>\n",
       "    <tr>\n",
       "      <th>1</th>\n",
       "      <td>3</td>\n",
       "      <td>Colleges of the Fenway - Fenway at Avenue Loui...</td>\n",
       "      <td>9957</td>\n",
       "      <td>10291</td>\n",
       "      <td>20248</td>\n",
       "    </tr>\n",
       "    <tr>\n",
       "      <th>2</th>\n",
       "      <td>4</td>\n",
       "      <td>Tremont St at E Berkeley St</td>\n",
       "      <td>14900</td>\n",
       "      <td>15318</td>\n",
       "      <td>30218</td>\n",
       "    </tr>\n",
       "    <tr>\n",
       "      <th>3</th>\n",
       "      <td>5</td>\n",
       "      <td>Northeastern University - North Parking Lot</td>\n",
       "      <td>11861</td>\n",
       "      <td>12297</td>\n",
       "      <td>24158</td>\n",
       "    </tr>\n",
       "    <tr>\n",
       "      <th>4</th>\n",
       "      <td>6</td>\n",
       "      <td>Cambridge St at Joy St</td>\n",
       "      <td>20750</td>\n",
       "      <td>20229</td>\n",
       "      <td>40979</td>\n",
       "    </tr>\n",
       "  </tbody>\n",
       "</table>\n",
       "</div>"
      ],
      "text/plain": [
       "   station_id                                       station_name  \\\n",
       "0           1                              18 Dorrance Warehouse   \n",
       "1           3  Colleges of the Fenway - Fenway at Avenue Loui...   \n",
       "2           4                        Tremont St at E Berkeley St   \n",
       "3           5        Northeastern University - North Parking Lot   \n",
       "4           6                             Cambridge St at Joy St   \n",
       "\n",
       "   trips_started  trips_ended  total_trips  \n",
       "0             37          646          683  \n",
       "1           9957        10291        20248  \n",
       "2          14900        15318        30218  \n",
       "3          11861        12297        24158  \n",
       "4          20750        20229        40979  "
      ]
     },
     "execution_count": 63,
     "metadata": {},
     "output_type": "execute_result"
    }
   ],
   "source": [
    "boston_total_trips.head()"
   ]
  },
  {
   "cell_type": "markdown",
   "id": "e3aeb7d3-1e73-4706-8e31-71be00ea2bf3",
   "metadata": {},
   "source": [
    "Dataset: Stations' locations"
   ]
  },
  {
   "cell_type": "code",
   "execution_count": 65,
   "id": "665075aa-61d2-43ec-9d28-b7a2c0683dfa",
   "metadata": {},
   "outputs": [],
   "source": [
    "# Separating start and end stations and renaming columns.\n",
    "\n",
    "start_stations = df_boston[['start_station_id', 'start_station', 'start_station_lat', 'start_station_long']]\n",
    "start_stations.columns = ['station_id', 'station', 'lat', 'long']\n",
    "\n",
    "end_stations = df_boston[['end_station_id', 'end_station', 'end_station_lat', 'end_station_long']]\n",
    "end_stations.columns = ['station_id', 'station', 'lat', 'long']\n",
    "\n",
    "# Concatenating datasets.\n",
    "\n",
    "boston_station_location = pd.concat([start_stations, end_stations])\n",
    "\n",
    "# Dropping duplicates.\n",
    "\n",
    "boston_station_location = boston_station_location.drop_duplicates().reset_index(drop=True)"
   ]
  },
  {
   "cell_type": "code",
   "execution_count": 66,
   "id": "03edd801-ec06-453a-bd9b-4eb01ce72f32",
   "metadata": {},
   "outputs": [],
   "source": [
    "boston_station_location = boston_station_location.sort_values(by='station_id').reset_index(drop=True)"
   ]
  },
  {
   "cell_type": "code",
   "execution_count": 67,
   "id": "db967597-2307-490d-89ee-6deb92a73539",
   "metadata": {},
   "outputs": [
    {
     "data": {
      "text/html": [
       "<div>\n",
       "<style scoped>\n",
       "    .dataframe tbody tr th:only-of-type {\n",
       "        vertical-align: middle;\n",
       "    }\n",
       "\n",
       "    .dataframe tbody tr th {\n",
       "        vertical-align: top;\n",
       "    }\n",
       "\n",
       "    .dataframe thead th {\n",
       "        text-align: right;\n",
       "    }\n",
       "</style>\n",
       "<table border=\"1\" class=\"dataframe\">\n",
       "  <thead>\n",
       "    <tr style=\"text-align: right;\">\n",
       "      <th></th>\n",
       "      <th>station_id</th>\n",
       "      <th>station</th>\n",
       "      <th>lat</th>\n",
       "      <th>long</th>\n",
       "    </tr>\n",
       "  </thead>\n",
       "  <tbody>\n",
       "    <tr>\n",
       "      <th>0</th>\n",
       "      <td>1</td>\n",
       "      <td>18 Dorrance Warehouse</td>\n",
       "      <td>42.387151</td>\n",
       "      <td>-71.075978</td>\n",
       "    </tr>\n",
       "    <tr>\n",
       "      <th>1</th>\n",
       "      <td>3</td>\n",
       "      <td>Colleges of the Fenway - Fenway at Avenue Loui...</td>\n",
       "      <td>42.340115</td>\n",
       "      <td>-71.100619</td>\n",
       "    </tr>\n",
       "    <tr>\n",
       "      <th>2</th>\n",
       "      <td>4</td>\n",
       "      <td>Tremont St at E Berkeley St</td>\n",
       "      <td>42.345392</td>\n",
       "      <td>-71.069616</td>\n",
       "    </tr>\n",
       "    <tr>\n",
       "      <th>3</th>\n",
       "      <td>5</td>\n",
       "      <td>Northeastern University - North Parking Lot</td>\n",
       "      <td>42.341814</td>\n",
       "      <td>-71.090179</td>\n",
       "    </tr>\n",
       "    <tr>\n",
       "      <th>4</th>\n",
       "      <td>6</td>\n",
       "      <td>Cambridge St at Joy St</td>\n",
       "      <td>42.361257</td>\n",
       "      <td>-71.065287</td>\n",
       "    </tr>\n",
       "  </tbody>\n",
       "</table>\n",
       "</div>"
      ],
      "text/plain": [
       "   station_id                                            station        lat  \\\n",
       "0           1                              18 Dorrance Warehouse  42.387151   \n",
       "1           3  Colleges of the Fenway - Fenway at Avenue Loui...  42.340115   \n",
       "2           4                        Tremont St at E Berkeley St  42.345392   \n",
       "3           5        Northeastern University - North Parking Lot  42.341814   \n",
       "4           6                             Cambridge St at Joy St  42.361257   \n",
       "\n",
       "        long  \n",
       "0 -71.075978  \n",
       "1 -71.100619  \n",
       "2 -71.069616  \n",
       "3 -71.090179  \n",
       "4 -71.065287  "
      ]
     },
     "execution_count": 67,
     "metadata": {},
     "output_type": "execute_result"
    }
   ],
   "source": [
    "boston_station_location.head(5)"
   ]
  },
  {
   "cell_type": "markdown",
   "id": "a32304f5-d390-4f71-a573-17d75a377511",
   "metadata": {},
   "source": [
    "## 1.3. Data for sentiment analysis"
   ]
  },
  {
   "cell_type": "markdown",
   "id": "96896ee7-594d-4151-9b54-c769c0bbb70d",
   "metadata": {},
   "source": [
    "### Fetching Data."
   ]
  },
  {
   "cell_type": "code",
   "execution_count": 70,
   "id": "62f20217-3590-4624-9981-42f49e61bca6",
   "metadata": {},
   "outputs": [],
   "source": [
    "from dotenv import load_dotenv\n",
    "load_dotenv()\n",
    "import praw\n",
    "import json"
   ]
  },
  {
   "cell_type": "markdown",
   "id": "1695f199-f0a7-4d94-8fc9-bce47a531e43",
   "metadata": {},
   "source": [
    "Setting parameters"
   ]
  },
  {
   "cell_type": "code",
   "execution_count": 72,
   "id": "f83923eb-f07b-4b20-b88b-38a28fcdb2a5",
   "metadata": {},
   "outputs": [
    {
     "name": "stdout",
     "output_type": "stream",
     "text": [
      "cSb8r3IMxXZYe3cUf7mrdQ\n",
      "CFLt2M6lt7bXXKKEiWUfQoVFsSZIeg\n",
      "BikeSharingScraper by /u/Raphacae\n"
     ]
    }
   ],
   "source": [
    "# Getting values.\n",
    "\n",
    "client_id =os.getenv('CLIENT_ID')  \n",
    "client_secret =os.getenv('CLIENT_SECRET')   \n",
    "user_agent =os.getenv('USER_AGENT')\n",
    "\n",
    "# Verifying variables (this section should be commented out or delete in producting for safety reasons).\n",
    "\n",
    "print(client_id)\n",
    "print(client_secret)\n",
    "print(user_agent)"
   ]
  },
  {
   "cell_type": "code",
   "execution_count": 73,
   "id": "093c60b6-b948-4239-8978-2519446efcc4",
   "metadata": {},
   "outputs": [],
   "source": [
    "# Initializing instances\n",
    "\n",
    "reddit = praw.Reddit(client_id=client_id, client_secret=client_secret, user_agent=user_agent)\n",
    "\n",
    "# Def for collecting comments\n",
    "\n",
    "def getting_comments(subreddit_name, query, limit=1000):\n",
    "    subreddit = reddit.subreddit(subreddit_name)\n",
    "    comments_data = []\n",
    "\n",
    "    for submission in subreddit.search(query, limit=limit):\n",
    "        submission.comments.replace_more(limit=0)\n",
    "        for comment in submission.comments.list():\n",
    "            comments_data.append({'comment_id':comment.id, 'comment_body': comment.body, 'comment_score':comment.score, \n",
    "                                  'comment_author':str(comment.author), 'submission_title': submission.title, \n",
    "                                  'submission_id': submission.id, 'submission_id':submission.id, 'submission_score':submission.score,\n",
    "                                  'submission_author': str(submission.author), 'submission_url':submission.url})\n",
    "\n",
    "\n",
    "    return comments_data"
   ]
  },
  {
   "cell_type": "markdown",
   "id": "a527a77a-a788-4a41-9c93-8ecf35348a1d",
   "metadata": {},
   "source": [
    "Fetching, storing, and reading comments."
   ]
  },
  {
   "cell_type": "code",
   "execution_count": null,
   "id": "b949c97d-6ee7-4dea-affb-db0a37e83568",
   "metadata": {},
   "outputs": [],
   "source": [
    "\n",
    "dublin_comments = getting_comments('all', 'DublinBikes', limit=500)\n",
    "boston_comments = getting_comments('all', 'BlueBikes Boston', limit=500)\n"
   ]
  },
  {
   "cell_type": "code",
   "execution_count": null,
   "id": "7170873b-3e99-4cb3-8a88-32e613df85a3",
   "metadata": {},
   "outputs": [],
   "source": [
    "# Retrieval and storage of comments. An 'else' statment was added in order to prevent writing empty data to the .json file.\n",
    "\n",
    "\n",
    "if dublin_comments:\n",
    "    with open('dublin_comments.json', 'w') as f:\n",
    "        json.dump(dublin_comments, f, indent=4)\n",
    "else:\n",
    "    print(\"DublinBike: No comments fetched.\")\n",
    "\n",
    "if boston_comments:\n",
    "    with open('boston_comments.json', 'w') as f:\n",
    "        json.dump(boston_comments, f, indent=4)\n",
    "else:\n",
    "    print(\"BlueBikes Boston: No comments fetched.\")"
   ]
  },
  {
   "cell_type": "code",
   "execution_count": null,
   "id": "efaad61e-944f-4fd1-a779-9da4d8401d52",
   "metadata": {},
   "outputs": [],
   "source": [
    "with open('dublin_comments.json', 'r') as f:\n",
    "    dublinbikes_json = json.load(f)\n",
    "    print(\"DublinBikes Comments JSON:\", dublinbikes_json[:2])  # Print first 2 comments to verify\n",
    "\n",
    "with open('boston_comments.json', 'r') as f:\n",
    "    bluebikes_boston_json = json.load(f)\n",
    "    print(\"BlueBikes Boston Comments JSON:\", bluebikes_boston_json[:2])  # Print first 2 comments to verify\n",
    "\n",
    "# Font: https://www.geeksforgeeks.org/how-to-read-json-files-with-pandas/"
   ]
  },
  {
   "cell_type": "code",
   "execution_count": null,
   "id": "e89295f1-e47f-483c-8199-5b492cf30791",
   "metadata": {},
   "outputs": [],
   "source": [
    "# Reading json files\n",
    "\n",
    "df_dublin_comments = pd.read_json('dublin_comments.json')\n",
    "df_boston_comments = pd.read_json('boston_comments.json')"
   ]
  },
  {
   "cell_type": "markdown",
   "id": "1408e748-0f2b-4032-8093-e9ec90c1a418",
   "metadata": {},
   "source": [
    "1.3.1. Dublin Reddit Comments."
   ]
  },
  {
   "cell_type": "markdown",
   "id": "983065fb-ff65-4717-925c-7be82dc987b1",
   "metadata": {},
   "source": [
    "Inspecting the data."
   ]
  },
  {
   "cell_type": "code",
   "execution_count": null,
   "id": "888e157d-9618-42fd-af62-8cc1679187d9",
   "metadata": {},
   "outputs": [],
   "source": [
    "df_dublin_comments.info()"
   ]
  },
  {
   "cell_type": "markdown",
   "id": "646fb15a-1d09-46ee-824b-39fbb2bdabb3",
   "metadata": {},
   "source": [
    "Handling missing data."
   ]
  },
  {
   "cell_type": "code",
   "execution_count": null,
   "id": "f61fece6-b3ca-400e-a878-40186f66475b",
   "metadata": {},
   "outputs": [],
   "source": [
    "df_dublin_comments.isnull().sum()"
   ]
  },
  {
   "cell_type": "markdown",
   "id": "a171d0d6-f090-4091-84fb-7b527fdc406c",
   "metadata": {},
   "source": [
    "Detecting duplicates and selecting columns."
   ]
  },
  {
   "cell_type": "code",
   "execution_count": null,
   "id": "5196def7-9f52-47d6-8e67-c45e660b5ae5",
   "metadata": {},
   "outputs": [],
   "source": [
    "# Detecting duplicates (It is very unlikely there are duplicates due to the origin of the data, but it will be performed just in case).\n",
    "# If it is 'False', there are no duplicated rows in the dataset.\n",
    "\n",
    "dupli_dublin_comments = df_dublin_comments.duplicated().any()\n",
    "\n",
    "print(f'Are there any duplicated rows in the whole dataset? {dupli_dublin_comments}')"
   ]
  },
  {
   "cell_type": "markdown",
   "id": "70f6f78f-c6a8-4166-8459-0f32a446af97",
   "metadata": {},
   "source": [
    "Dropping columns."
   ]
  },
  {
   "cell_type": "code",
   "execution_count": null,
   "id": "e2d503a1-9c55-42fd-9049-77fd431f664b",
   "metadata": {},
   "outputs": [],
   "source": [
    "drop_column_dublin_comments = ['comment_id', 'comment_score', 'submission_id', 'submission_score', 'submission_author', 'submission_url', 'submission_title', 'comment_author'] \n",
    "df_dublin_comments = df_dublin_comments.drop(columns = drop_column_dublin_comments)"
   ]
  },
  {
   "cell_type": "markdown",
   "id": "f5de8bb2-3607-4d8b-8ec8-b40e9081cd90",
   "metadata": {},
   "source": [
    "Creating a 'word counting' column."
   ]
  },
  {
   "cell_type": "code",
   "execution_count": null,
   "id": "36185946-d0f9-49b9-8014-d2d08785d52a",
   "metadata": {},
   "outputs": [],
   "source": [
    "# Lambda function: Creating a word count cloumn to check number of words x score\n",
    "df_dublin_comments['word_count'] = df_dublin_comments['comment_body'].apply(lambda x: len(str(x).split(\" \")))\n"
   ]
  },
  {
   "cell_type": "code",
   "execution_count": null,
   "id": "6cc79784-4660-4876-ab0b-3b16c907b288",
   "metadata": {},
   "outputs": [],
   "source": [
    "import re\n",
    "import contractions\n",
    "import nltk\n",
    "from nltk.corpus import stopwords\n",
    "nltk.download('stopwords')\n",
    "import string"
   ]
  },
  {
   "cell_type": "markdown",
   "id": "25424ed9-1a97-49a2-9409-1a7a9f7cc5c2",
   "metadata": {},
   "source": [
    "Cleaning and removing."
   ]
  },
  {
   "cell_type": "code",
   "execution_count": null,
   "id": "bafc44d9-bfb6-407b-b05b-ce0fd6c4e985",
   "metadata": {},
   "outputs": [],
   "source": [
    "# Lower casing\n",
    "\n",
    "df_dublin_comments['comment_body'] = df_dublin_comments['comment_body'].apply(lambda x: \" \".join(x.lower() for x in x.split()))\n",
    "\n",
    "# Removing punctuation\n",
    "\n",
    "df_dublin_comments['comment_body'] = df_dublin_comments['comment_body'].str.replace(f'[{string.punctuation}]', '', regex=True)\n",
    "\n",
    "# Removing stop words\n",
    "\n",
    "stop = stopwords.words('english')\n",
    "df_dublin_comments['comment_body'] = df_dublin_comments['comment_body'].apply(lambda x: \" \".join(x for x in x.split() if x not in stop))\n",
    "\n",
    "# Removing frequent words\n",
    "\n",
    "freq = pd.Series(' '.join(df_dublin_comments['comment_body']).split()).value_counts()[:10]\n",
    "freq = list(freq.index)\n",
    "df_dublin_comments['comment_body'] = df_dublin_comments['comment_body'].apply(lambda x: \" \".join(x for x in x.split() if x not in freq))\n",
    "\n",
    "# Removing rare words\n",
    "\n",
    "freq = pd.Series(' '.join(df_dublin_comments['comment_body']).split()).value_counts()[-10:]\n",
    "freq = list(freq.index)\n",
    "df_dublin_comments['comment_body'] = df_dublin_comments['comment_body'].apply(lambda x: \" \".join(x for x in x.split() if x not in freq))\n"
   ]
  },
  {
   "cell_type": "code",
   "execution_count": null,
   "id": "0e0ee554-d470-4b8e-9d55-c4837b6972af",
   "metadata": {},
   "outputs": [],
   "source": [
    "df_dublin_comments.head()"
   ]
  },
  {
   "cell_type": "markdown",
   "id": "aed9ff49-1967-42b0-b841-3340ec8444f8",
   "metadata": {},
   "source": [
    "1.3.2. Boston Reddit Comments"
   ]
  },
  {
   "cell_type": "markdown",
   "id": "f3ab95d4-7bc0-47ee-8f81-0c833c1b78f6",
   "metadata": {},
   "source": [
    "Inspecting data."
   ]
  },
  {
   "cell_type": "code",
   "execution_count": null,
   "id": "f2f1a93d-0dd1-4457-8a7b-ee33d81f79d7",
   "metadata": {},
   "outputs": [],
   "source": [
    "df_boston_comments.info()"
   ]
  },
  {
   "cell_type": "markdown",
   "id": "8306e11e-6db5-4ada-a48b-f65fcbb76609",
   "metadata": {},
   "source": [
    "Checking null values."
   ]
  },
  {
   "cell_type": "code",
   "execution_count": null,
   "id": "989c832f-8aff-49a6-bb57-1b1ebe32e126",
   "metadata": {
    "scrolled": true
   },
   "outputs": [],
   "source": [
    "df_boston_comments.isnull().sum()"
   ]
  },
  {
   "cell_type": "markdown",
   "id": "5e2554f2-19ec-43c8-80f0-10caafbe6093",
   "metadata": {},
   "source": [
    "Detecting duplicates and selecting columns."
   ]
  },
  {
   "cell_type": "code",
   "execution_count": null,
   "id": "b5769dc9-ea49-45a6-a7a1-240e501521de",
   "metadata": {},
   "outputs": [],
   "source": [
    "# Detecting duplicates (It is very unlikely there are duplicates due to the origin of the data, but it will be performed just in case).\n",
    "# If it is 'False', there are no duplicated rows in the dataset.\n",
    "\n",
    "dupli_boston_comments = df_boston_comments.duplicated().any()\n",
    "\n",
    "print(f'Are there any duplicated rows in the whole dataset? {dupli_boston_comments}')"
   ]
  },
  {
   "cell_type": "markdown",
   "id": "363a14b4-3f4f-4e0d-8950-f9f1d84553d8",
   "metadata": {},
   "source": [
    "Dropping columns."
   ]
  },
  {
   "cell_type": "code",
   "execution_count": null,
   "id": "a74e0a39-c862-4be9-b091-15375d0920af",
   "metadata": {},
   "outputs": [],
   "source": [
    "drop_column_boston_comments = ['comment_id', 'comment_score', 'submission_id', 'submission_score', 'submission_author', 'submission_url', 'submission_title', 'comment_author'] \n",
    "df_boston_comments = df_boston_comments.drop(columns = drop_column_boston_comments)\n"
   ]
  },
  {
   "cell_type": "markdown",
   "id": "356459da-b976-4f57-a0d4-c50e6bb60530",
   "metadata": {},
   "source": [
    "Creating a 'word counting' column."
   ]
  },
  {
   "cell_type": "code",
   "execution_count": null,
   "id": "bf51039b-cd22-4592-9b35-d5cee9c4a01e",
   "metadata": {},
   "outputs": [],
   "source": [
    "# Lambda function: Creating a word count cloumn to check number of words x score\n",
    "df_boston_comments['word_count'] = df_boston_comments['comment_body'].apply(lambda x: len(str(x).split(\" \")))"
   ]
  },
  {
   "cell_type": "code",
   "execution_count": null,
   "id": "39444cf7-64bb-472a-a52b-4b9dbe02a5f9",
   "metadata": {},
   "outputs": [],
   "source": [
    "# Lower casing\n",
    "\n",
    "df_boston_comments['comment_body'] = df_boston_comments['comment_body'].apply(lambda x: \" \".join(x.lower() for x in x.split()))\n",
    "\n",
    "# Removing punctuation\n",
    "\n",
    "df_boston_comments['comment_body'] = df_boston_comments['comment_body'].str.replace(f'[{string.punctuation}]', '', regex=True)\n",
    "\n",
    "# Removing stop words\n",
    "\n",
    "stop = stopwords.words('english')\n",
    "df_boston_comments['comment_body'] = df_boston_comments['comment_body'].apply(lambda x: \" \".join(x for x in x.split() if x not in stop))\n",
    "\n",
    "# Removing frequent words\n",
    "\n",
    "freq = pd.Series(' '.join(df_boston_comments['comment_body']).split()).value_counts()[:10]\n",
    "freq = list(freq.index)\n",
    "df_boston_comments['comment_body'] = df_boston_comments['comment_body'].apply(lambda x: \" \".join(x for x in x.split() if x not in freq))\n",
    "\n",
    "# Removing rare words\n",
    "\n",
    "freq = pd.Series(' '.join(df_boston_comments['comment_body']).split()).value_counts()[-10:]\n",
    "freq = list(freq.index)\n",
    "df_boston_comments['comment_body'] = df_boston_comments['comment_body'].apply(lambda x: \" \".join(x for x in x.split() if x not in freq))"
   ]
  },
  {
   "cell_type": "code",
   "execution_count": null,
   "id": "a4307ff1-4160-4ea4-805d-00206f2bbf8f",
   "metadata": {},
   "outputs": [],
   "source": [
    "df_boston_comments.tail(10)"
   ]
  },
  {
   "cell_type": "markdown",
   "id": "e0a14b91-1eff-42a2-8342-13dcc5fccfec",
   "metadata": {},
   "source": [
    "# 2 - EDA (Exploratory Data Analysis)"
   ]
  },
  {
   "cell_type": "markdown",
   "id": "21714c04-6381-4553-99d3-48e4f005de1c",
   "metadata": {},
   "source": [
    "## 2.1. Geographical Distribution of Stations"
   ]
  },
  {
   "cell_type": "markdown",
   "id": "167cdb9d-9a6e-4c4e-b9cd-1f0aa4f1eb15",
   "metadata": {},
   "source": [
    "2.1.2. DublinBikes Distribution"
   ]
  },
  {
   "cell_type": "code",
   "execution_count": null,
   "id": "65ae5728-3a82-4f33-b28a-0f00e1cb6f6d",
   "metadata": {},
   "outputs": [],
   "source": [
    "import plotly.express as px\n",
    "\n",
    "dublin_distribution = px.scatter_mapbox(dublin_station_location, lat='lat', lon='long', color_discrete_sequence=[\"blue\"], zoom=12, height=600)\n",
    "\n",
    "dublin_distribution.update_layout(mapbox_style=\"open-street-map\")\n",
    "dublin_distribution.update_layout(margin={\"r\":0,\"t\":0,\"l\":0,\"b\":0})\n",
    "\n",
    "dublin_distribution.show() \n",
    "\n"
   ]
  },
  {
   "cell_type": "code",
   "execution_count": null,
   "id": "6de8c988-867d-46e6-a526-fb6f59768499",
   "metadata": {},
   "outputs": [],
   "source": []
  },
  {
   "cell_type": "code",
   "execution_count": null,
   "id": "cfc967af-9325-41e6-8873-db91c37f45c5",
   "metadata": {},
   "outputs": [],
   "source": []
  }
 ],
 "metadata": {
  "kernelspec": {
   "display_name": "Python 3 (ipykernel)",
   "language": "python",
   "name": "python3"
  },
  "language_info": {
   "codemirror_mode": {
    "name": "ipython",
    "version": 3
   },
   "file_extension": ".py",
   "mimetype": "text/x-python",
   "name": "python",
   "nbconvert_exporter": "python",
   "pygments_lexer": "ipython3",
   "version": "3.12.4"
  }
 },
 "nbformat": 4,
 "nbformat_minor": 5
}
