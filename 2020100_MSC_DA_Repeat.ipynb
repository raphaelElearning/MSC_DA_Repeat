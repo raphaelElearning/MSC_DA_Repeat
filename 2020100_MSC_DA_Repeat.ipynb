{
 "cells": [
  {
   "cell_type": "code",
   "execution_count": 1,
   "id": "66fb03ac-44c5-432a-985c-97c2dd8058bc",
   "metadata": {},
   "outputs": [],
   "source": [
    "import pandas as pd\n",
    "import os\n",
    "import seaborn as sns\n",
    "import plotly.express as px\n",
    "import matplotlib.pyplot as plt\n",
    "import numpy as np"
   ]
  },
  {
   "cell_type": "markdown",
   "id": "c9c5b124-1c88-4070-9d16-f2a576779657",
   "metadata": {},
   "source": [
    "# 1- Data Preparation (cleaning and engineering)"
   ]
  },
  {
   "cell_type": "markdown",
   "id": "48c7f53e-b217-42e4-afc9-ca00ecbb38ed",
   "metadata": {},
   "source": [
    "# 1.1. Dublin Bikes"
   ]
  },
  {
   "cell_type": "markdown",
   "id": "44fa1434-29b3-48a5-82fa-ab0e56096f8d",
   "metadata": {},
   "source": [
    "First we will loop through the files in order to concatenate the 12 complementary files into a single dataframe for the whole year of 2023.\n",
    "Dataset available at: \n",
    "\n",
    "Dataset available at: https://data.smartdublin.ie/dataset/dublinbikes-api\n",
    "\n",
    "\n",
    "Font: https://medium.com/@nawazmohtashim/method-to-merge-csv-files-in-python-8b0f16550e0b"
   ]
  },
  {
   "cell_type": "code",
   "execution_count": 5,
   "id": "d1ec9507-e3db-4730-8320-635194bcc0c3",
   "metadata": {},
   "outputs": [
    {
     "name": "stdout",
     "output_type": "stream",
     "text": [
      "['.DS_Store', '._.DS_Store', '._dublinbike-historical-data-2022-01.csv', '._dublinbike-historical-data-2022-02.csv', '._dublinbike-historical-data-2022-03.csv', '._dublinbike-historical-data-2022-04.csv', '._dublinbike-historical-data-2022-05.csv', '._dublinbike-historical-data-2022-06.csv', '._dublinbike-historical-data-2022-07.csv', '._dublinbike-historical-data-2022-08.csv', '._dublinbike-historical-data-2022-09.csv', '._dublinbike-historical-data-2022-10.csv', '._dublinbike-historical-data-2022-11.csv', '._dublinbike-historical-data-2022-12.csv', 'Dublinbike_historical_data_2022.csv', 'dublinbike-historical-data-2022-01.csv', 'dublinbike-historical-data-2022-02.csv', 'dublinbike-historical-data-2022-03.csv', 'dublinbike-historical-data-2022-04.csv', 'dublinbike-historical-data-2022-05.csv', 'dublinbike-historical-data-2022-06.csv', 'dublinbike-historical-data-2022-07.csv', 'dublinbike-historical-data-2022-08.csv', 'dublinbike-historical-data-2022-09.csv', 'dublinbike-historical-data-2022-10.csv', 'dublinbike-historical-data-2022-11.csv', 'dublinbike-historical-data-2022-12.csv']\n"
     ]
    }
   ],
   "source": [
    "# Listing the files and sorting them by name in the dublin_data folder so they do not have to be typed one by one. Adapted from: https://stevenhough.medium.com/how-to-easily-list-all-files-in-a-folder-using-python-3-ee06004c6316\n",
    "\n",
    "folder_path = '/home/user/Documents/GitHub/dublin_data'\n",
    "\n",
    "file_list = sorted([f for f in os.listdir(folder_path) if os.path.isfile(os.path.join(folder_path, f))])\n",
    "\n",
    "print(file_list)"
   ]
  },
  {
   "cell_type": "code",
   "execution_count": 6,
   "id": "b850317a-c8df-498c-b9b8-da2dd2e37e4c",
   "metadata": {},
   "outputs": [],
   "source": [
    "# Creating a list with the files.\n",
    "\n",
    "months_dfs = ['/home/user/Documents/GitHub/dublin_data/dublinbike-historical-data-2022-01.csv', '/home/user/Documents/GitHub/dublin_data/dublinbike-historical-data-2022-02.csv', '/home/user/Documents/GitHub/dublin_data/dublinbike-historical-data-2022-03.csv', \n",
    "              '/home/user/Documents/GitHub/dublin_data/dublinbike-historical-data-2022-04.csv', '/home/user/Documents/GitHub/dublin_data/dublinbike-historical-data-2022-05.csv', '/home/user/Documents/GitHub/dublin_data/dublinbike-historical-data-2022-06.csv',\n",
    "              '/home/user/Documents/GitHub/dublin_data/dublinbike-historical-data-2022-07.csv', '/home/user/Documents/GitHub/dublin_data/dublinbike-historical-data-2022-08.csv', '/home/user/Documents/GitHub/dublin_data/dublinbike-historical-data-2022-09.csv',\n",
    "              '/home/user/Documents/GitHub/dublin_data/dublinbike-historical-data-2022-10.csv', '/home/user/Documents/GitHub/dublin_data/dublinbike-historical-data-2022-11.csv', '/home/user/Documents/GitHub/dublin_data/dublinbike-historical-data-2022-12.csv']"
   ]
  },
  {
   "cell_type": "code",
   "execution_count": 7,
   "id": "24d63b3f-e521-4a96-88cc-d2ccac965af8",
   "metadata": {},
   "outputs": [],
   "source": [
    "df_dublin = pd.DataFrame()\n",
    "\n",
    "# For loop for merging data\n",
    "for monthsdfs in months_dfs:\n",
    "    df = pd.read_csv(monthsdfs)\n",
    "    df_dublin = pd.concat([df_dublin, df], ignore_index=True)\n",
    "\n",
    "# Saving a new .csv file with the merged data\n",
    "df_dublin.to_csv('Dublinbike_historical_data_2022.csv', index=False)"
   ]
  },
  {
   "cell_type": "code",
   "execution_count": 8,
   "id": "d8547652-c006-4e8a-8c11-15368a91d3f2",
   "metadata": {},
   "outputs": [],
   "source": [
    "df_dublin = pd.read_csv('/home/user/Documents/GitHub/dublin_data/Dublinbike_historical_data_2022.csv')"
   ]
  },
  {
   "cell_type": "code",
   "execution_count": 9,
   "id": "57b57cd2-a043-4d61-8d64-2554e3fdcaa8",
   "metadata": {},
   "outputs": [
    {
     "data": {
      "text/html": [
       "<div>\n",
       "<style scoped>\n",
       "    .dataframe tbody tr th:only-of-type {\n",
       "        vertical-align: middle;\n",
       "    }\n",
       "\n",
       "    .dataframe tbody tr th {\n",
       "        vertical-align: top;\n",
       "    }\n",
       "\n",
       "    .dataframe thead th {\n",
       "        text-align: right;\n",
       "    }\n",
       "</style>\n",
       "<table border=\"1\" class=\"dataframe\">\n",
       "  <thead>\n",
       "    <tr style=\"text-align: right;\">\n",
       "      <th></th>\n",
       "      <th>STATION ID</th>\n",
       "      <th>TIME</th>\n",
       "      <th>LAST UPDATED</th>\n",
       "      <th>NAME</th>\n",
       "      <th>BIKE_STANDS</th>\n",
       "      <th>AVAILABLE_BIKE_STANDS</th>\n",
       "      <th>AVAILABLE_BIKES</th>\n",
       "      <th>STATUS</th>\n",
       "      <th>ADDRESS</th>\n",
       "      <th>LATITUDE</th>\n",
       "      <th>LONGITUDE</th>\n",
       "    </tr>\n",
       "  </thead>\n",
       "  <tbody>\n",
       "    <tr>\n",
       "      <th>1950284</th>\n",
       "      <td>113</td>\n",
       "      <td>2022-12-31 23:30:02</td>\n",
       "      <td>2022-12-31 23:28:52</td>\n",
       "      <td>MERRION SQUARE SOUTH</td>\n",
       "      <td>40</td>\n",
       "      <td>28</td>\n",
       "      <td>12</td>\n",
       "      <td>OPEN</td>\n",
       "      <td>Merrion Square South</td>\n",
       "      <td>53.3386</td>\n",
       "      <td>-6.24861</td>\n",
       "    </tr>\n",
       "    <tr>\n",
       "      <th>1950285</th>\n",
       "      <td>114</td>\n",
       "      <td>2022-12-31 23:30:02</td>\n",
       "      <td>2022-12-31 23:22:06</td>\n",
       "      <td>WILTON TERRACE (PARK)</td>\n",
       "      <td>40</td>\n",
       "      <td>34</td>\n",
       "      <td>6</td>\n",
       "      <td>OPEN</td>\n",
       "      <td>Wilton Terrace (Park)</td>\n",
       "      <td>53.3337</td>\n",
       "      <td>-6.24834</td>\n",
       "    </tr>\n",
       "    <tr>\n",
       "      <th>1950286</th>\n",
       "      <td>115</td>\n",
       "      <td>2022-12-31 23:30:02</td>\n",
       "      <td>2022-12-31 23:29:17</td>\n",
       "      <td>KILLARNEY STREET</td>\n",
       "      <td>30</td>\n",
       "      <td>24</td>\n",
       "      <td>6</td>\n",
       "      <td>OPEN</td>\n",
       "      <td>Killarney Street</td>\n",
       "      <td>53.3548</td>\n",
       "      <td>-6.24758</td>\n",
       "    </tr>\n",
       "    <tr>\n",
       "      <th>1950287</th>\n",
       "      <td>116</td>\n",
       "      <td>2022-12-31 23:30:02</td>\n",
       "      <td>2022-12-31 23:26:30</td>\n",
       "      <td>BROADSTONE</td>\n",
       "      <td>30</td>\n",
       "      <td>28</td>\n",
       "      <td>2</td>\n",
       "      <td>OPEN</td>\n",
       "      <td>Broadstone</td>\n",
       "      <td>53.3547</td>\n",
       "      <td>-6.27231</td>\n",
       "    </tr>\n",
       "    <tr>\n",
       "      <th>1950288</th>\n",
       "      <td>117</td>\n",
       "      <td>2022-12-31 23:30:02</td>\n",
       "      <td>2022-12-31 23:24:36</td>\n",
       "      <td>HANOVER QUAY EAST</td>\n",
       "      <td>40</td>\n",
       "      <td>37</td>\n",
       "      <td>3</td>\n",
       "      <td>OPEN</td>\n",
       "      <td>Hanover Quay East</td>\n",
       "      <td>53.3437</td>\n",
       "      <td>-6.23175</td>\n",
       "    </tr>\n",
       "  </tbody>\n",
       "</table>\n",
       "</div>"
      ],
      "text/plain": [
       "         STATION ID                 TIME         LAST UPDATED  \\\n",
       "1950284         113  2022-12-31 23:30:02  2022-12-31 23:28:52   \n",
       "1950285         114  2022-12-31 23:30:02  2022-12-31 23:22:06   \n",
       "1950286         115  2022-12-31 23:30:02  2022-12-31 23:29:17   \n",
       "1950287         116  2022-12-31 23:30:02  2022-12-31 23:26:30   \n",
       "1950288         117  2022-12-31 23:30:02  2022-12-31 23:24:36   \n",
       "\n",
       "                          NAME  BIKE_STANDS  AVAILABLE_BIKE_STANDS  \\\n",
       "1950284   MERRION SQUARE SOUTH           40                     28   \n",
       "1950285  WILTON TERRACE (PARK)           40                     34   \n",
       "1950286       KILLARNEY STREET           30                     24   \n",
       "1950287             BROADSTONE           30                     28   \n",
       "1950288      HANOVER QUAY EAST           40                     37   \n",
       "\n",
       "         AVAILABLE_BIKES STATUS                ADDRESS  LATITUDE  LONGITUDE  \n",
       "1950284               12   OPEN   Merrion Square South   53.3386   -6.24861  \n",
       "1950285                6   OPEN  Wilton Terrace (Park)   53.3337   -6.24834  \n",
       "1950286                6   OPEN       Killarney Street   53.3548   -6.24758  \n",
       "1950287                2   OPEN             Broadstone   53.3547   -6.27231  \n",
       "1950288                3   OPEN      Hanover Quay East   53.3437   -6.23175  "
      ]
     },
     "execution_count": 9,
     "metadata": {},
     "output_type": "execute_result"
    }
   ],
   "source": [
    "df_dublin.tail(5)"
   ]
  },
  {
   "cell_type": "markdown",
   "id": "b5485a8b-9cf2-4a55-8198-6a752bca96c8",
   "metadata": {},
   "source": [
    "Handling missing data."
   ]
  },
  {
   "cell_type": "code",
   "execution_count": 11,
   "id": "a8132d77-c48d-420c-9cf4-f8653ff46178",
   "metadata": {},
   "outputs": [
    {
     "data": {
      "text/plain": [
       "STATION ID               0\n",
       "TIME                     0\n",
       "LAST UPDATED             0\n",
       "NAME                     0\n",
       "BIKE_STANDS              0\n",
       "AVAILABLE_BIKE_STANDS    0\n",
       "AVAILABLE_BIKES          0\n",
       "STATUS                   0\n",
       "ADDRESS                  0\n",
       "LATITUDE                 0\n",
       "LONGITUDE                0\n",
       "dtype: int64"
      ]
     },
     "execution_count": 11,
     "metadata": {},
     "output_type": "execute_result"
    }
   ],
   "source": [
    "df_dublin.isnull().sum()"
   ]
  },
  {
   "cell_type": "markdown",
   "id": "1424799e-a95b-4a89-8685-bac4e3498772",
   "metadata": {},
   "source": [
    "Filtering the dataset by status."
   ]
  },
  {
   "cell_type": "code",
   "execution_count": 13,
   "id": "793c7ebc-2fb2-4f50-96c9-dc1961a91686",
   "metadata": {},
   "outputs": [
    {
     "data": {
      "text/plain": [
       "(array(['OPEN', 'CLOSED'], dtype=object),\n",
       " STATUS\n",
       " OPEN      1948271\n",
       " CLOSED       2018\n",
       " Name: count, dtype: int64)"
      ]
     },
     "execution_count": 13,
     "metadata": {},
     "output_type": "execute_result"
    }
   ],
   "source": [
    "# Checking unique statuses in 'STATUS' since we are only using stations that are open.\n",
    "\n",
    "statuses_status = df_dublin['STATUS'].unique()\n",
    "status_numbers = df_dublin['STATUS'].value_counts()\n",
    "\n",
    "statuses_status, status_numbers"
   ]
  },
  {
   "cell_type": "code",
   "execution_count": 14,
   "id": "840cf71e-ab07-4fa8-bc24-4bacc23c577b",
   "metadata": {},
   "outputs": [],
   "source": [
    "# Filtering the dataset to only 'OPEN' statuses.\n",
    "\n",
    "df_dublin = df_dublin[df_dublin['STATUS'] == 'OPEN']"
   ]
  },
  {
   "cell_type": "markdown",
   "id": "b2c9c62f-baca-4ffc-bb67-943b0b166a0b",
   "metadata": {},
   "source": [
    "Dropping, renaming and detecting duplicates."
   ]
  },
  {
   "cell_type": "code",
   "execution_count": 16,
   "id": "b326fb53-7a1f-4bea-891c-f4493c85f1d0",
   "metadata": {},
   "outputs": [],
   "source": [
    "# Dropping redundant / unecessary columns.\n",
    "\n",
    "drop_column = ['LAST UPDATED','ADDRESS']\n",
    "df_dublin = df_dublin.drop(columns = drop_column)"
   ]
  },
  {
   "cell_type": "code",
   "execution_count": 17,
   "id": "aec15e91-cd55-48ff-8e19-cb525b031b53",
   "metadata": {},
   "outputs": [],
   "source": [
    "# Renaming columns for better vizualisation.\n",
    "\n",
    "df_dublin.rename(columns={'STATION ID': 'station_id','TIME': 'time', 'NAME': 'station', 'BIKE_STANDS': 'n_stands',\n",
    "                            'AVAILABLE_BIKE_STANDS': 'available_stands','AVAILABLE_BIKES': 'available_bikes', 'STATUS': 'status',\n",
    "                            'LATITUDE': 'lat', 'LONGITUDE': 'long' }, inplace=True)"
   ]
  },
  {
   "cell_type": "code",
   "execution_count": 18,
   "id": "2123a31f-6571-42c8-94f5-514eb2309426",
   "metadata": {
    "scrolled": true
   },
   "outputs": [
    {
     "data": {
      "text/html": [
       "<div>\n",
       "<style scoped>\n",
       "    .dataframe tbody tr th:only-of-type {\n",
       "        vertical-align: middle;\n",
       "    }\n",
       "\n",
       "    .dataframe tbody tr th {\n",
       "        vertical-align: top;\n",
       "    }\n",
       "\n",
       "    .dataframe thead th {\n",
       "        text-align: right;\n",
       "    }\n",
       "</style>\n",
       "<table border=\"1\" class=\"dataframe\">\n",
       "  <thead>\n",
       "    <tr style=\"text-align: right;\">\n",
       "      <th></th>\n",
       "      <th>station_id</th>\n",
       "      <th>time</th>\n",
       "      <th>station</th>\n",
       "      <th>n_stands</th>\n",
       "      <th>available_stands</th>\n",
       "      <th>available_bikes</th>\n",
       "      <th>status</th>\n",
       "      <th>lat</th>\n",
       "      <th>long</th>\n",
       "    </tr>\n",
       "  </thead>\n",
       "  <tbody>\n",
       "    <tr>\n",
       "      <th>0</th>\n",
       "      <td>2</td>\n",
       "      <td>2022-01-01 00:00:04</td>\n",
       "      <td>BLESSINGTON STREET</td>\n",
       "      <td>20</td>\n",
       "      <td>10</td>\n",
       "      <td>10</td>\n",
       "      <td>OPEN</td>\n",
       "      <td>53.3568</td>\n",
       "      <td>-6.26814</td>\n",
       "    </tr>\n",
       "    <tr>\n",
       "      <th>1</th>\n",
       "      <td>3</td>\n",
       "      <td>2022-01-01 00:00:04</td>\n",
       "      <td>BOLTON STREET</td>\n",
       "      <td>20</td>\n",
       "      <td>19</td>\n",
       "      <td>1</td>\n",
       "      <td>OPEN</td>\n",
       "      <td>53.3512</td>\n",
       "      <td>-6.26986</td>\n",
       "    </tr>\n",
       "    <tr>\n",
       "      <th>2</th>\n",
       "      <td>4</td>\n",
       "      <td>2022-01-01 00:00:04</td>\n",
       "      <td>GREEK STREET</td>\n",
       "      <td>20</td>\n",
       "      <td>9</td>\n",
       "      <td>11</td>\n",
       "      <td>OPEN</td>\n",
       "      <td>53.3469</td>\n",
       "      <td>-6.27298</td>\n",
       "    </tr>\n",
       "    <tr>\n",
       "      <th>3</th>\n",
       "      <td>5</td>\n",
       "      <td>2022-01-01 00:00:04</td>\n",
       "      <td>CHARLEMONT PLACE</td>\n",
       "      <td>40</td>\n",
       "      <td>17</td>\n",
       "      <td>23</td>\n",
       "      <td>OPEN</td>\n",
       "      <td>53.3307</td>\n",
       "      <td>-6.26018</td>\n",
       "    </tr>\n",
       "    <tr>\n",
       "      <th>4</th>\n",
       "      <td>6</td>\n",
       "      <td>2022-01-01 00:00:04</td>\n",
       "      <td>CHRISTCHURCH PLACE</td>\n",
       "      <td>20</td>\n",
       "      <td>13</td>\n",
       "      <td>7</td>\n",
       "      <td>OPEN</td>\n",
       "      <td>53.3434</td>\n",
       "      <td>-6.27012</td>\n",
       "    </tr>\n",
       "  </tbody>\n",
       "</table>\n",
       "</div>"
      ],
      "text/plain": [
       "   station_id                 time             station  n_stands  \\\n",
       "0           2  2022-01-01 00:00:04  BLESSINGTON STREET        20   \n",
       "1           3  2022-01-01 00:00:04       BOLTON STREET        20   \n",
       "2           4  2022-01-01 00:00:04        GREEK STREET        20   \n",
       "3           5  2022-01-01 00:00:04    CHARLEMONT PLACE        40   \n",
       "4           6  2022-01-01 00:00:04  CHRISTCHURCH PLACE        20   \n",
       "\n",
       "   available_stands  available_bikes status      lat     long  \n",
       "0                10               10   OPEN  53.3568 -6.26814  \n",
       "1                19                1   OPEN  53.3512 -6.26986  \n",
       "2                 9               11   OPEN  53.3469 -6.27298  \n",
       "3                17               23   OPEN  53.3307 -6.26018  \n",
       "4                13                7   OPEN  53.3434 -6.27012  "
      ]
     },
     "execution_count": 18,
     "metadata": {},
     "output_type": "execute_result"
    }
   ],
   "source": [
    "df_dublin.head(5)"
   ]
  },
  {
   "cell_type": "code",
   "execution_count": 19,
   "id": "11b67a20-ecf2-432e-8cd0-6a434db57f15",
   "metadata": {},
   "outputs": [
    {
     "name": "stdout",
     "output_type": "stream",
     "text": [
      "Are there any duplicated rows in the whole dataset? False\n"
     ]
    }
   ],
   "source": [
    "# Detecting duplicates (It is very unlikely there are duplicates due to the origin of the data, but it will be performed just in case).\n",
    "# If it is 'False', there are no duplicated rows in the dataset.\n",
    "\n",
    "dupli = df_dublin.duplicated().any()\n",
    "\n",
    "print(f'Are there any duplicated rows in the whole dataset? {dupli}')"
   ]
  },
  {
   "cell_type": "markdown",
   "id": "48ae9e8a-d15b-4b98-80bc-18943f632302",
   "metadata": {},
   "source": [
    "Trasforming Dtypes."
   ]
  },
  {
   "cell_type": "code",
   "execution_count": 21,
   "id": "a0be1242-cd75-47df-9ace-e1ecde789396",
   "metadata": {},
   "outputs": [],
   "source": [
    "# Tranforming the column 'TIME' to datetime format.\n",
    "\n",
    "df_dublin['time']= pd.to_datetime(df_dublin['time'])"
   ]
  },
  {
   "cell_type": "code",
   "execution_count": 22,
   "id": "eee59514-efb0-4353-8942-85bc371cd10c",
   "metadata": {},
   "outputs": [
    {
     "name": "stdout",
     "output_type": "stream",
     "text": [
      "<class 'pandas.core.frame.DataFrame'>\n",
      "Index: 1948271 entries, 0 to 1950288\n",
      "Data columns (total 9 columns):\n",
      " #   Column            Dtype         \n",
      "---  ------            -----         \n",
      " 0   station_id        int64         \n",
      " 1   time              datetime64[ns]\n",
      " 2   station           object        \n",
      " 3   n_stands          int64         \n",
      " 4   available_stands  int64         \n",
      " 5   available_bikes   int64         \n",
      " 6   status            object        \n",
      " 7   lat               float64       \n",
      " 8   long              float64       \n",
      "dtypes: datetime64[ns](1), float64(2), int64(4), object(2)\n",
      "memory usage: 148.6+ MB\n"
     ]
    }
   ],
   "source": [
    "df_dublin.info()"
   ]
  },
  {
   "cell_type": "markdown",
   "id": "7ef7d6d5-3b89-4f40-9754-b158f9baff10",
   "metadata": {},
   "source": [
    "Adtional cleaning."
   ]
  },
  {
   "cell_type": "code",
   "execution_count": 24,
   "id": "8299f4a2-2357-4af9-866e-784a1577ccc0",
   "metadata": {},
   "outputs": [],
   "source": [
    "# Recleaning dataset.\n",
    "\n",
    "drop_column2 = ['status']\n",
    "df_dublin = df_dublin.drop(columns = drop_column2)"
   ]
  },
  {
   "cell_type": "code",
   "execution_count": 25,
   "id": "2de65763-baa1-4235-a802-6dafdab1b09d",
   "metadata": {},
   "outputs": [
    {
     "data": {
      "text/html": [
       "<div>\n",
       "<style scoped>\n",
       "    .dataframe tbody tr th:only-of-type {\n",
       "        vertical-align: middle;\n",
       "    }\n",
       "\n",
       "    .dataframe tbody tr th {\n",
       "        vertical-align: top;\n",
       "    }\n",
       "\n",
       "    .dataframe thead th {\n",
       "        text-align: right;\n",
       "    }\n",
       "</style>\n",
       "<table border=\"1\" class=\"dataframe\">\n",
       "  <thead>\n",
       "    <tr style=\"text-align: right;\">\n",
       "      <th></th>\n",
       "      <th>station_id</th>\n",
       "      <th>time</th>\n",
       "      <th>station</th>\n",
       "      <th>n_stands</th>\n",
       "      <th>available_stands</th>\n",
       "      <th>available_bikes</th>\n",
       "      <th>lat</th>\n",
       "      <th>long</th>\n",
       "    </tr>\n",
       "  </thead>\n",
       "  <tbody>\n",
       "    <tr>\n",
       "      <th>0</th>\n",
       "      <td>2</td>\n",
       "      <td>2022-01-01 00:00:04</td>\n",
       "      <td>BLESSINGTON STREET</td>\n",
       "      <td>20</td>\n",
       "      <td>10</td>\n",
       "      <td>10</td>\n",
       "      <td>53.3568</td>\n",
       "      <td>-6.26814</td>\n",
       "    </tr>\n",
       "    <tr>\n",
       "      <th>1</th>\n",
       "      <td>3</td>\n",
       "      <td>2022-01-01 00:00:04</td>\n",
       "      <td>BOLTON STREET</td>\n",
       "      <td>20</td>\n",
       "      <td>19</td>\n",
       "      <td>1</td>\n",
       "      <td>53.3512</td>\n",
       "      <td>-6.26986</td>\n",
       "    </tr>\n",
       "    <tr>\n",
       "      <th>2</th>\n",
       "      <td>4</td>\n",
       "      <td>2022-01-01 00:00:04</td>\n",
       "      <td>GREEK STREET</td>\n",
       "      <td>20</td>\n",
       "      <td>9</td>\n",
       "      <td>11</td>\n",
       "      <td>53.3469</td>\n",
       "      <td>-6.27298</td>\n",
       "    </tr>\n",
       "    <tr>\n",
       "      <th>3</th>\n",
       "      <td>5</td>\n",
       "      <td>2022-01-01 00:00:04</td>\n",
       "      <td>CHARLEMONT PLACE</td>\n",
       "      <td>40</td>\n",
       "      <td>17</td>\n",
       "      <td>23</td>\n",
       "      <td>53.3307</td>\n",
       "      <td>-6.26018</td>\n",
       "    </tr>\n",
       "    <tr>\n",
       "      <th>4</th>\n",
       "      <td>6</td>\n",
       "      <td>2022-01-01 00:00:04</td>\n",
       "      <td>CHRISTCHURCH PLACE</td>\n",
       "      <td>20</td>\n",
       "      <td>13</td>\n",
       "      <td>7</td>\n",
       "      <td>53.3434</td>\n",
       "      <td>-6.27012</td>\n",
       "    </tr>\n",
       "  </tbody>\n",
       "</table>\n",
       "</div>"
      ],
      "text/plain": [
       "   station_id                time             station  n_stands  \\\n",
       "0           2 2022-01-01 00:00:04  BLESSINGTON STREET        20   \n",
       "1           3 2022-01-01 00:00:04       BOLTON STREET        20   \n",
       "2           4 2022-01-01 00:00:04        GREEK STREET        20   \n",
       "3           5 2022-01-01 00:00:04    CHARLEMONT PLACE        40   \n",
       "4           6 2022-01-01 00:00:04  CHRISTCHURCH PLACE        20   \n",
       "\n",
       "   available_stands  available_bikes      lat     long  \n",
       "0                10               10  53.3568 -6.26814  \n",
       "1                19                1  53.3512 -6.26986  \n",
       "2                 9               11  53.3469 -6.27298  \n",
       "3                17               23  53.3307 -6.26018  \n",
       "4                13                7  53.3434 -6.27012  "
      ]
     },
     "execution_count": 25,
     "metadata": {},
     "output_type": "execute_result"
    }
   ],
   "source": [
    "df_dublin.head(5)"
   ]
  },
  {
   "cell_type": "markdown",
   "id": "a1833ef0-0480-4111-ac96-a591a1f77f53",
   "metadata": {},
   "source": [
    "Data engineering for number of trips per station."
   ]
  },
  {
   "cell_type": "code",
   "execution_count": 27,
   "id": "9da77f36-ea2c-4e1a-ae9b-dc34ae7ff61e",
   "metadata": {},
   "outputs": [],
   "source": [
    "# Sorting rows by station_id and time.\n",
    "\n",
    "dublin_total_trips = df_dublin.sort_values(by=['station_id', 'time'])"
   ]
  },
  {
   "cell_type": "code",
   "execution_count": 28,
   "id": "68a55ccb-d0c1-466d-8ac7-425ae263ee0e",
   "metadata": {},
   "outputs": [],
   "source": [
    "# Calculating number of trips per row (ended and started).\n",
    "# Obs: There is a slight modifycation in the lambda function since 'ended' and 'started'(lambda x: -x in\n",
    "# comparison to lambda x: x) as the number of the current available bikes / available stands subtracted from the previous number will \n",
    "# dictate if it is a starting or ending trip. (AS + / AB - = Trips started; AS - / AB + = Trips ended)\n",
    "\n",
    "dublin_total_trips['trips_started'] = dublin_total_trips.groupby('station_id')['available_bikes'].diff().fillna(0)\n",
    "dublin_total_trips['trips_started'] = dublin_total_trips['trips_started'].apply(lambda x: -x if x < 0 else 0)\n",
    "\n",
    "dublin_total_trips['trips_ended'] = dublin_total_trips.groupby('station_id')['available_bikes'].diff().fillna(0)\n",
    "dublin_total_trips['trips_ended'] = dublin_total_trips['trips_ended'].apply(lambda x: x if x > 0 else 0)\n",
    "\n",
    "dublin_total_trips['total_trips_per_station'] = dublin_total_trips['trips_started']+dublin_total_trips['trips_ended']"
   ]
  },
  {
   "cell_type": "code",
   "execution_count": 29,
   "id": "157d9d8e-c4e6-46c9-9665-aeffe03a0b20",
   "metadata": {},
   "outputs": [
    {
     "data": {
      "text/html": [
       "<div>\n",
       "<style scoped>\n",
       "    .dataframe tbody tr th:only-of-type {\n",
       "        vertical-align: middle;\n",
       "    }\n",
       "\n",
       "    .dataframe tbody tr th {\n",
       "        vertical-align: top;\n",
       "    }\n",
       "\n",
       "    .dataframe thead th {\n",
       "        text-align: right;\n",
       "    }\n",
       "</style>\n",
       "<table border=\"1\" class=\"dataframe\">\n",
       "  <thead>\n",
       "    <tr style=\"text-align: right;\">\n",
       "      <th></th>\n",
       "      <th>station_id</th>\n",
       "      <th>time</th>\n",
       "      <th>station</th>\n",
       "      <th>n_stands</th>\n",
       "      <th>available_stands</th>\n",
       "      <th>available_bikes</th>\n",
       "      <th>lat</th>\n",
       "      <th>long</th>\n",
       "      <th>trips_started</th>\n",
       "      <th>trips_ended</th>\n",
       "      <th>total_trips_per_station</th>\n",
       "    </tr>\n",
       "  </thead>\n",
       "  <tbody>\n",
       "    <tr>\n",
       "      <th>614868</th>\n",
       "      <td>1</td>\n",
       "      <td>2022-04-27 13:00:02</td>\n",
       "      <td>CLARENDON ROW</td>\n",
       "      <td>31</td>\n",
       "      <td>27</td>\n",
       "      <td>0</td>\n",
       "      <td>53.3409</td>\n",
       "      <td>-6.2625</td>\n",
       "      <td>0.0</td>\n",
       "      <td>0.0</td>\n",
       "      <td>0.0</td>\n",
       "    </tr>\n",
       "    <tr>\n",
       "      <th>614980</th>\n",
       "      <td>1</td>\n",
       "      <td>2022-04-27 13:30:02</td>\n",
       "      <td>CLARENDON ROW</td>\n",
       "      <td>31</td>\n",
       "      <td>27</td>\n",
       "      <td>0</td>\n",
       "      <td>53.3409</td>\n",
       "      <td>-6.2625</td>\n",
       "      <td>0.0</td>\n",
       "      <td>0.0</td>\n",
       "      <td>0.0</td>\n",
       "    </tr>\n",
       "    <tr>\n",
       "      <th>615092</th>\n",
       "      <td>1</td>\n",
       "      <td>2022-04-27 14:00:02</td>\n",
       "      <td>CLARENDON ROW</td>\n",
       "      <td>31</td>\n",
       "      <td>27</td>\n",
       "      <td>0</td>\n",
       "      <td>53.3409</td>\n",
       "      <td>-6.2625</td>\n",
       "      <td>0.0</td>\n",
       "      <td>0.0</td>\n",
       "      <td>0.0</td>\n",
       "    </tr>\n",
       "    <tr>\n",
       "      <th>615204</th>\n",
       "      <td>1</td>\n",
       "      <td>2022-04-27 14:30:02</td>\n",
       "      <td>CLARENDON ROW</td>\n",
       "      <td>31</td>\n",
       "      <td>0</td>\n",
       "      <td>0</td>\n",
       "      <td>53.3409</td>\n",
       "      <td>-6.2625</td>\n",
       "      <td>0.0</td>\n",
       "      <td>0.0</td>\n",
       "      <td>0.0</td>\n",
       "    </tr>\n",
       "    <tr>\n",
       "      <th>615316</th>\n",
       "      <td>1</td>\n",
       "      <td>2022-04-27 15:00:02</td>\n",
       "      <td>CLARENDON ROW</td>\n",
       "      <td>31</td>\n",
       "      <td>0</td>\n",
       "      <td>0</td>\n",
       "      <td>53.3409</td>\n",
       "      <td>-6.2625</td>\n",
       "      <td>0.0</td>\n",
       "      <td>0.0</td>\n",
       "      <td>0.0</td>\n",
       "    </tr>\n",
       "  </tbody>\n",
       "</table>\n",
       "</div>"
      ],
      "text/plain": [
       "        station_id                time        station  n_stands  \\\n",
       "614868           1 2022-04-27 13:00:02  CLARENDON ROW        31   \n",
       "614980           1 2022-04-27 13:30:02  CLARENDON ROW        31   \n",
       "615092           1 2022-04-27 14:00:02  CLARENDON ROW        31   \n",
       "615204           1 2022-04-27 14:30:02  CLARENDON ROW        31   \n",
       "615316           1 2022-04-27 15:00:02  CLARENDON ROW        31   \n",
       "\n",
       "        available_stands  available_bikes      lat    long  trips_started  \\\n",
       "614868                27                0  53.3409 -6.2625            0.0   \n",
       "614980                27                0  53.3409 -6.2625            0.0   \n",
       "615092                27                0  53.3409 -6.2625            0.0   \n",
       "615204                 0                0  53.3409 -6.2625            0.0   \n",
       "615316                 0                0  53.3409 -6.2625            0.0   \n",
       "\n",
       "        trips_ended  total_trips_per_station  \n",
       "614868          0.0                      0.0  \n",
       "614980          0.0                      0.0  \n",
       "615092          0.0                      0.0  \n",
       "615204          0.0                      0.0  \n",
       "615316          0.0                      0.0  "
      ]
     },
     "execution_count": 29,
     "metadata": {},
     "output_type": "execute_result"
    }
   ],
   "source": [
    "dublin_total_trips.head()"
   ]
  },
  {
   "cell_type": "code",
   "execution_count": 30,
   "id": "72fec718-85fd-4892-89e0-8dc34057bad8",
   "metadata": {},
   "outputs": [],
   "source": [
    "# Calculating totals\n",
    "\n",
    "dublin_total_trips = dublin_total_trips.groupby(['station_id', 'station'])[['trips_started', 'trips_ended', 'total_trips_per_station']].sum().reset_index()"
   ]
  },
  {
   "cell_type": "code",
   "execution_count": 31,
   "id": "4c67eb1e-ef27-4312-97f4-224c46065489",
   "metadata": {},
   "outputs": [],
   "source": [
    "dublin_total_trips['trips_started'] = dublin_total_trips['trips_started'].astype(int)\n",
    "dublin_total_trips['trips_ended'] = dublin_total_trips['trips_ended'].astype(int)\n",
    "dublin_total_trips['total_trips_per_station'] = dublin_total_trips['total_trips_per_station'].astype(int)\n"
   ]
  },
  {
   "cell_type": "code",
   "execution_count": 32,
   "id": "9b6bb756-db5d-41a2-9cd0-c1eb64cde387",
   "metadata": {},
   "outputs": [
    {
     "data": {
      "text/html": [
       "<div>\n",
       "<style scoped>\n",
       "    .dataframe tbody tr th:only-of-type {\n",
       "        vertical-align: middle;\n",
       "    }\n",
       "\n",
       "    .dataframe tbody tr th {\n",
       "        vertical-align: top;\n",
       "    }\n",
       "\n",
       "    .dataframe thead th {\n",
       "        text-align: right;\n",
       "    }\n",
       "</style>\n",
       "<table border=\"1\" class=\"dataframe\">\n",
       "  <thead>\n",
       "    <tr style=\"text-align: right;\">\n",
       "      <th></th>\n",
       "      <th>station_id</th>\n",
       "      <th>station</th>\n",
       "      <th>trips_started</th>\n",
       "      <th>trips_ended</th>\n",
       "      <th>total_trips_per_station</th>\n",
       "    </tr>\n",
       "  </thead>\n",
       "  <tbody>\n",
       "    <tr>\n",
       "      <th>110</th>\n",
       "      <td>114</td>\n",
       "      <td>WILTON TERRACE (PARK)</td>\n",
       "      <td>13717</td>\n",
       "      <td>13711</td>\n",
       "      <td>27428</td>\n",
       "    </tr>\n",
       "    <tr>\n",
       "      <th>111</th>\n",
       "      <td>115</td>\n",
       "      <td>KILLARNEY STREET</td>\n",
       "      <td>10800</td>\n",
       "      <td>10780</td>\n",
       "      <td>21580</td>\n",
       "    </tr>\n",
       "    <tr>\n",
       "      <th>112</th>\n",
       "      <td>116</td>\n",
       "      <td>BROADSTONE</td>\n",
       "      <td>5015</td>\n",
       "      <td>5008</td>\n",
       "      <td>10023</td>\n",
       "    </tr>\n",
       "    <tr>\n",
       "      <th>113</th>\n",
       "      <td>117</td>\n",
       "      <td>HANOVER QUAY EAST</td>\n",
       "      <td>4691</td>\n",
       "      <td>4689</td>\n",
       "      <td>9380</td>\n",
       "    </tr>\n",
       "    <tr>\n",
       "      <th>114</th>\n",
       "      <td>507</td>\n",
       "      <td>ORIEL STREET TEST TERMINAL</td>\n",
       "      <td>0</td>\n",
       "      <td>0</td>\n",
       "      <td>0</td>\n",
       "    </tr>\n",
       "  </tbody>\n",
       "</table>\n",
       "</div>"
      ],
      "text/plain": [
       "     station_id                     station  trips_started  trips_ended  \\\n",
       "110         114       WILTON TERRACE (PARK)          13717        13711   \n",
       "111         115            KILLARNEY STREET          10800        10780   \n",
       "112         116                  BROADSTONE           5015         5008   \n",
       "113         117           HANOVER QUAY EAST           4691         4689   \n",
       "114         507  ORIEL STREET TEST TERMINAL              0            0   \n",
       "\n",
       "     total_trips_per_station  \n",
       "110                    27428  \n",
       "111                    21580  \n",
       "112                    10023  \n",
       "113                     9380  \n",
       "114                        0  "
      ]
     },
     "execution_count": 32,
     "metadata": {},
     "output_type": "execute_result"
    }
   ],
   "source": [
    "dublin_total_trips.tail()"
   ]
  },
  {
   "cell_type": "markdown",
   "id": "06174c2b-3e6f-48c9-b4ee-7aeb7de25912",
   "metadata": {},
   "source": [
    "# 1.2. Boston Blue Bikes"
   ]
  },
  {
   "cell_type": "markdown",
   "id": "27e0a239-2f7b-428d-8363-81bb2824718b",
   "metadata": {},
   "source": [
    "The same process for concatenating files will be used for the following Boston Bikes datasets.\n",
    "\n",
    "Font: https://medium.com/@nawazmohtashim/method-to-merge-csv-files-in-python-8b0f16550e0b"
   ]
  },
  {
   "cell_type": "code",
   "execution_count": 35,
   "id": "7746f2b8-2ab3-4664-9589-f4afe30b5f17",
   "metadata": {
    "scrolled": true
   },
   "outputs": [
    {
     "name": "stdout",
     "output_type": "stream",
     "text": [
      "['.DS_Store', '._.DS_Store', '._202201-bluebikes-tripdata.csv', '._202202-bluebikes-tripdata.csv', '._202203-bluebikes-tripdata.csv', '._202204-bluebikes-tripdata.csv', '._202205-bluebikes-tripdata.csv', '._202206-bluebikes-tripdata.csv', '._202207-bluebikes-tripdata.csv', '._202208-bluebikes-tripdata.csv', '._202209-bluebikes-tripdata.csv', '._202210-bluebikes-tripdata.csv', '._202211-bluebikes-tripdata.csv', '._202212-bluebikes-tripdata.csv', '2022-bluebikes-tripdata.csv', '202201-bluebikes-tripdata.csv', '202202-bluebikes-tripdata.csv', '202203-bluebikes-tripdata.csv', '202204-bluebikes-tripdata.csv', '202205-bluebikes-tripdata.csv', '202206-bluebikes-tripdata.csv', '202207-bluebikes-tripdata.csv', '202208-bluebikes-tripdata.csv', '202209-bluebikes-tripdata.csv', '202210-bluebikes-tripdata.csv', '202211-bluebikes-tripdata.csv', '202212-bluebikes-tripdata.csv']\n"
     ]
    }
   ],
   "source": [
    "# Listing the files and sorting them by name in the boston_data folder so they do not have to be typed one by one. Adapted from: https://stevenhough.medium.com/how-to-easily-list-all-files-in-a-folder-using-python-3-ee06004c6316\n",
    "\n",
    "folder_path = '/home/user/Documents/GitHub/boston_data'\n",
    "\n",
    "file_list = sorted([f for f in os.listdir(folder_path) if os.path.isfile(os.path.join(folder_path, f))])\n",
    "\n",
    "print(file_list)"
   ]
  },
  {
   "cell_type": "markdown",
   "id": "b1a4afa5-048e-47b8-b25b-05e4adfd266d",
   "metadata": {},
   "source": [
    "Creating a list with the files."
   ]
  },
  {
   "cell_type": "code",
   "execution_count": 37,
   "id": "30955815-ff97-484d-9338-1c336cc64362",
   "metadata": {},
   "outputs": [],
   "source": [
    "boston_months_dfs = ['/home/user/Documents/GitHub/boston_data/202201-bluebikes-tripdata.csv', '/home/user/Documents/GitHub/boston_data/202202-bluebikes-tripdata.csv', '/home/user/Documents/GitHub/boston_data/202203-bluebikes-tripdata.csv',\n",
    "                     '/home/user/Documents/GitHub/boston_data/202204-bluebikes-tripdata.csv', '/home/user/Documents/GitHub/boston_data/202205-bluebikes-tripdata.csv', '/home/user/Documents/GitHub/boston_data/202206-bluebikes-tripdata.csv', \n",
    "                     '/home/user/Documents/GitHub/boston_data/202207-bluebikes-tripdata.csv', '/home/user/Documents/GitHub/boston_data/202208-bluebikes-tripdata.csv', '/home/user/Documents/GitHub/boston_data/202209-bluebikes-tripdata.csv', \n",
    "                     '/home/user/Documents/GitHub/boston_data/202210-bluebikes-tripdata.csv', '/home/user/Documents/GitHub/boston_data/202211-bluebikes-tripdata.csv', '/home/user/Documents/GitHub/boston_data/202212-bluebikes-tripdata.csv']"
   ]
  },
  {
   "cell_type": "code",
   "execution_count": 38,
   "id": "a2d5f9b1-a33c-458f-97b7-4889d93ceb8b",
   "metadata": {},
   "outputs": [],
   "source": [
    "df_boston = pd.DataFrame()\n",
    "\n",
    "# For loop for merging data\n",
    "\n",
    "for boston_months_dfs in boston_months_dfs:\n",
    "    df = pd.read_csv(boston_months_dfs)\n",
    "    df_boston = pd.concat([df_boston, df], ignore_index=True)\n",
    "\n",
    "# Saving a new .csv file with the merged data\n",
    "\n",
    "df_boston.to_csv('/home/user/Documents/GitHub/boston_data/2022-bluebikes-tripdata.csv', index=False)"
   ]
  },
  {
   "cell_type": "code",
   "execution_count": null,
   "id": "8ac8f82c-0225-421c-8f26-5194ab7efd2f",
   "metadata": {},
   "outputs": [],
   "source": [
    "df_boston = pd.read_csv('/home/user/Documents/GitHub/boston_data/2022-bluebikes-tripdata.csv')"
   ]
  },
  {
   "cell_type": "code",
   "execution_count": null,
   "id": "5e5e3a15-138b-4a67-8bf3-71381c1a78a2",
   "metadata": {},
   "outputs": [],
   "source": [
    "df_boston.head(5)"
   ]
  },
  {
   "cell_type": "code",
   "execution_count": null,
   "id": "ef41cc7d-ac45-4443-b04a-49be354ca178",
   "metadata": {},
   "outputs": [],
   "source": [
    "df_boston.tail(5)"
   ]
  },
  {
   "cell_type": "markdown",
   "id": "f790c1e5-6930-431e-ad14-3b873015ff26",
   "metadata": {},
   "source": [
    "Handling missing data."
   ]
  },
  {
   "cell_type": "code",
   "execution_count": null,
   "id": "dde8e7a8-3d20-45c5-b3f8-8054987789ea",
   "metadata": {},
   "outputs": [],
   "source": [
    "# Since only postal code has null values and it is an irrelevant variable for the analysis, we will drop it later.\n",
    "\n",
    "df_boston.isnull().sum()"
   ]
  },
  {
   "cell_type": "markdown",
   "id": "688551ef-8927-4155-a459-d87cc118c360",
   "metadata": {},
   "source": [
    "Transforming Dtypes"
   ]
  },
  {
   "cell_type": "code",
   "execution_count": null,
   "id": "a8e06057-6990-4d19-a3ff-ee6e2005a2f9",
   "metadata": {},
   "outputs": [],
   "source": [
    "df_boston['starttime'] = pd.to_datetime(df_boston['starttime'])\n",
    "df_boston['stoptime'] = pd.to_datetime(df_boston['stoptime'])"
   ]
  },
  {
   "cell_type": "code",
   "execution_count": null,
   "id": "3fb9f886-6476-437d-b4c1-86cc860e8343",
   "metadata": {},
   "outputs": [],
   "source": [
    "df_boston.info()"
   ]
  },
  {
   "cell_type": "markdown",
   "id": "38606219-71da-42c2-b943-c6a0d0960f79",
   "metadata": {},
   "source": [
    "Engineering data for number of trips."
   ]
  },
  {
   "cell_type": "code",
   "execution_count": null,
   "id": "facc4753-b4b5-4112-b72d-aa5159f6a1c3",
   "metadata": {},
   "outputs": [],
   "source": [
    "# Calculating the number of trips starting and ending at each station.\n",
    "\n",
    "trips_started = df_boston.groupby(['start station id', 'start station name', 'starttime', 'start station latitude', 'start station longitude']).size().reset_index(name='trips_started')\n",
    "trips_ended = df_boston.groupby(['end station id', 'end station name', 'stoptime','end station latitude', 'end station longitude'  ]).size().reset_index(name='trips_ended')"
   ]
  },
  {
   "cell_type": "code",
   "execution_count": null,
   "id": "f4b1337b-be10-4250-b9c4-72fc54c56568",
   "metadata": {},
   "outputs": [],
   "source": [
    "trips_started.head(5)"
   ]
  },
  {
   "cell_type": "code",
   "execution_count": null,
   "id": "f1967ba8-2c4c-4851-a64b-71cabbfbda07",
   "metadata": {},
   "outputs": [],
   "source": [
    "trips_ended.head(5)"
   ]
  },
  {
   "cell_type": "code",
   "execution_count": null,
   "id": "a6e1d84b-a7b2-470d-aded-c043ad89b4c0",
   "metadata": {},
   "outputs": [],
   "source": [
    "# Merging and getting the total ammount of trips per station.\n",
    "\n",
    "boston_total_trips = pd.merge(trips_started, trips_ended, left_on = 'start station id', right_on = 'end station id')"
   ]
  },
  {
   "cell_type": "code",
   "execution_count": null,
   "id": "6b2737e6-31c8-4814-b7a1-4c2ecaeba772",
   "metadata": {},
   "outputs": [],
   "source": [
    "boston_total_trips.head()"
   ]
  },
  {
   "cell_type": "code",
   "execution_count": null,
   "id": "4a92dc09-93f1-4225-9438-359bc90a18fa",
   "metadata": {},
   "outputs": [],
   "source": [
    "# Cleaning and renaming.\n",
    "\n",
    "boston_total_trips.rename(columns={'start station id': 'station_id', 'start station name': 'station_name'}, inplace=True)\n",
    "boston_total_trips = boston_total_trips.drop(columns = ['end station id', 'end station name'])"
   ]
  },
  {
   "cell_type": "code",
   "execution_count": null,
   "id": "23b188bf-bae1-4399-b606-434858a3b738",
   "metadata": {},
   "outputs": [],
   "source": [
    "# Adding total.\n",
    "\n",
    "boston_total_trips['total_trips']= boston_total_trips['trips_started']+boston_total_trips['trips_ended']\n"
   ]
  },
  {
   "cell_type": "code",
   "execution_count": null,
   "id": "31fcdc85-f25f-4ebd-9a10-b8d848ef5295",
   "metadata": {},
   "outputs": [],
   "source": [
    "boston_total_trips.tail()"
   ]
  },
  {
   "cell_type": "markdown",
   "id": "a32304f5-d390-4f71-a573-17d75a377511",
   "metadata": {},
   "source": [
    "# 1.3. Data for sentiment analysis (Dublinbikes)"
   ]
  },
  {
   "cell_type": "markdown",
   "id": "d5c422c2-9076-477f-ac99-a1681a342c8b",
   "metadata": {},
   "source": [
    "Installing requered dependencies and importing libraries."
   ]
  },
  {
   "cell_type": "code",
   "execution_count": null,
   "id": "af7d6daf-e1a3-486c-b382-ee0b9520ef71",
   "metadata": {
    "scrolled": true
   },
   "outputs": [],
   "source": [
    "import praw\n",
    "import json"
   ]
  },
  {
   "cell_type": "code",
   "execution_count": null,
   "id": "62f20217-3590-4624-9981-42f49e61bca6",
   "metadata": {},
   "outputs": [],
   "source": []
  },
  {
   "cell_type": "code",
   "execution_count": null,
   "id": "2b6e6b15-307a-4bf1-83a4-98c098b14b5b",
   "metadata": {},
   "outputs": [],
   "source": []
  },
  {
   "cell_type": "code",
   "execution_count": null,
   "id": "f83923eb-f07b-4b20-b88b-38a28fcdb2a5",
   "metadata": {},
   "outputs": [],
   "source": []
  },
  {
   "cell_type": "code",
   "execution_count": null,
   "id": "093c60b6-b948-4239-8978-2519446efcc4",
   "metadata": {},
   "outputs": [],
   "source": []
  },
  {
   "cell_type": "code",
   "execution_count": null,
   "id": "b949c97d-6ee7-4dea-affb-db0a37e83568",
   "metadata": {},
   "outputs": [],
   "source": []
  },
  {
   "cell_type": "code",
   "execution_count": null,
   "id": "e89295f1-e47f-483c-8199-5b492cf30791",
   "metadata": {},
   "outputs": [],
   "source": []
  },
  {
   "cell_type": "code",
   "execution_count": null,
   "id": "d97d2385-4a25-4c81-9131-533173f3cd0d",
   "metadata": {},
   "outputs": [],
   "source": []
  },
  {
   "cell_type": "code",
   "execution_count": null,
   "id": "f975c72b-f966-43a4-8b85-a5ba860634da",
   "metadata": {},
   "outputs": [],
   "source": []
  },
  {
   "cell_type": "markdown",
   "id": "e0a14b91-1eff-42a2-8342-13dcc5fccfec",
   "metadata": {},
   "source": [
    "# 2 - EDA (Exploratory Data Analysis)"
   ]
  },
  {
   "cell_type": "markdown",
   "id": "21714c04-6381-4553-99d3-48e4f005de1c",
   "metadata": {},
   "source": [
    "# 2.1. General numbers"
   ]
  },
  {
   "cell_type": "markdown",
   "id": "e859f335-81b2-4bcd-8c21-c37395d35a13",
   "metadata": {},
   "source": [
    "2.1.1 - Dublin - General numbers concerning the dataset."
   ]
  },
  {
   "cell_type": "code",
   "execution_count": null,
   "id": "b2d34015-f75c-411c-a54e-cc335341b122",
   "metadata": {},
   "outputs": [],
   "source": [
    "# Counting basic numbers.\n",
    "\n",
    "unique_dublin_stations = df_dublin['station_id'].nunique()\n",
    "n_bikes_pstation_dublin = df_dublin.groupby('station_id')['n_stands'].max()\n",
    "total_bikes_dublin = n_bikes_pstation_dublin.sum()\n",
    "\n",
    "print('Total number of stations: ', unique_dublin_stations)\n",
    "print('Number of available bikes per station:\\n ', n_bikes_pstation_dublin)\n",
    "\n",
    "print('Total number of bikes available in Dublin: ', total_bikes_dublin)"
   ]
  },
  {
   "cell_type": "markdown",
   "id": "167cdb9d-9a6e-4c4e-b9cd-1f0aa4f1eb15",
   "metadata": {},
   "source": [
    "2.1.2. Spacial Vizualisation"
   ]
  },
  {
   "cell_type": "code",
   "execution_count": null,
   "id": "65ae5728-3a82-4f33-b28a-0f00e1cb6f6d",
   "metadata": {},
   "outputs": [],
   "source": [
    "\n",
    "#import plotly.express as px\n",
    "\n",
    "#dublin_distribution = px.scatter_mapbox(df_dublin, lat='lat', lon='long', color_discrete_sequence=[\"green\"], zoom=12, height=600)\n",
    "\n",
    "#dublin_distribution.update_layout(mapbox_style=\"open-street-map\")\n",
    "#dublin_distribution.update_layout(margin={\"r\":0,\"t\":0,\"l\":0,\"b\":0})\n",
    "\n",
    "#dublin_distribution.show() \n",
    "\n"
   ]
  },
  {
   "cell_type": "code",
   "execution_count": null,
   "id": "6de8c988-867d-46e6-a526-fb6f59768499",
   "metadata": {},
   "outputs": [],
   "source": []
  },
  {
   "cell_type": "code",
   "execution_count": null,
   "id": "cfc967af-9325-41e6-8873-db91c37f45c5",
   "metadata": {},
   "outputs": [],
   "source": []
  }
 ],
 "metadata": {
  "kernelspec": {
   "display_name": "Python 3 (ipykernel)",
   "language": "python",
   "name": "python3"
  },
  "language_info": {
   "codemirror_mode": {
    "name": "ipython",
    "version": 3
   },
   "file_extension": ".py",
   "mimetype": "text/x-python",
   "name": "python",
   "nbconvert_exporter": "python",
   "pygments_lexer": "ipython3",
   "version": "3.12.4"
  }
 },
 "nbformat": 4,
 "nbformat_minor": 5
}
